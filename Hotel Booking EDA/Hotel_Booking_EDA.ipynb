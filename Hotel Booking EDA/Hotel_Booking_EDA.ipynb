{
  "cells": [
    {
      "cell_type": "markdown",
      "id": "fa2d0bf7-4358-40c7-8879-5f9ce570c31d",
      "metadata": {
        "id": "fa2d0bf7-4358-40c7-8879-5f9ce570c31d"
      },
      "source": [
        "# Project Description\n",
        "\n",
        "Have you ever wondered when the best time of year to book a hotel room is? Or the optimal length of stay in order to get the best daily rate? What if you wanted to predict whether or not a hotel was likely to receive a disproportionately high number of special requests? This hotel booking dataset can help you explore those questions! This data set contains booking information for a city hotel and a resort hotel, and includes information such as when the booking was made, length of stay, the number of adults, children, and/or babies, and the number of available parking spaces, among other things. All personally identifying information has been removed from the data. Explore and analyse the data to discover important factors that govern the bookings.\n",
        "\n",
        "# Column descriptions\n",
        "\n",
        "- hotel: Name of hotel ( City or Resort)\n",
        "- is_canceled: Whether the booking is canceled or not (0 for no canceled and 1 for canceled)\n",
        "- lead_time: time (in days) between booking transaction and actual arrival.\n",
        "- arrival_date_year: Year of arrival\n",
        "- arrival_date_month: month of arrival\n",
        "- arrival_date_week_number: week number of arrival date.\n",
        "- arrival_date_day_of_month: Day of month of arrival date\n",
        "- stays_in_weekend_nights: No. of weekend nights spent in a hotel\n",
        "- stays_in_week_nights: No. of weeknights spent in a hotel\n",
        "- adults: No. of adults in single booking record.\n",
        "- children: No. of children in single booking record.\n",
        "- babies: No. of babies in single booking record.\n",
        "- meal: Type of meal chosen\n",
        "- country: Country of origin of customers (as mentioned by them)\n",
        "- market_segment: What segment via booking was made and for what purpose.\n",
        "- distribution_channel: Via which medium booking was made.\n",
        "- is_repeated_guest: Whether the customer has made any booking before(0 for No and 1 for Yes)\n",
        "- previous_cancellations: No. of previous canceled bookings.\n",
        "- previous_bookings_not_canceled: No. of previous non-canceled bookings.\n",
        "- reserved_room_type: Room type reserved by a customer.\n",
        "- assigned_room_type: Room type assigned to the customer.\n",
        "- booking_changes: No. of booking changes done by customers\n",
        "- deposit_type: Type of deposit at the time of making a booking (No deposit/ Refundable/ No refund)\n",
        "- agent: Id of agent for booking\n",
        "- company: Id of the company making a booking\n",
        "- days_in_waiting_list: No. of days on waiting list.\n",
        "- customer_type: Type of customer(Transient, Group, etc.)\n",
        "- adr: Average Daily rate.\n",
        "- required_car_parking_spaces: No. of car parking asked in booking\n",
        "- total_of_special_requests: total no. of special request.\n",
        "- reservation_status: Whether a customer has checked out or canceled,or not showed\n",
        "- reservation_status_date: Date of making reservation status.\n"
      ]
    },
    {
      "cell_type": "markdown",
      "source": [
        "# Loading libraries"
      ],
      "metadata": {
        "id": "44IsDGxJWH9Q"
      },
      "id": "44IsDGxJWH9Q"
    },
    {
      "cell_type": "code",
      "execution_count": null,
      "id": "dece155c-09d0-46b5-8e93-555788c6192c",
      "metadata": {
        "id": "dece155c-09d0-46b5-8e93-555788c6192c"
      },
      "outputs": [],
      "source": [
        "import pandas as pd\n",
        "import matplotlib.pyplot as plt\n",
        "import seaborn as sns"
      ]
    },
    {
      "cell_type": "markdown",
      "source": [
        "# Reading dataset\n"
      ],
      "metadata": {
        "id": "KqUWDWBzNiiJ"
      },
      "id": "KqUWDWBzNiiJ"
    },
    {
      "cell_type": "code",
      "execution_count": null,
      "id": "0846295b-cb8a-4c5e-8353-8862c689853f",
      "metadata": {
        "id": "0846295b-cb8a-4c5e-8353-8862c689853f"
      },
      "outputs": [],
      "source": [
        "import pandas as pd\n",
        "\n",
        "# Use the modified URL for direct CSV download\n",
        "csv_url = \"https://docs.google.com/spreadsheets/d/1A4FZ_l_pTge5dUPA6OJwnReEkL4fdilHWP2M96f0Z0U/export?format=csv\"\n",
        "\n",
        "# Read the CSV data into a DataFrame\n",
        "df = pd.read_csv(csv_url)\n",
        "\n",
        "\n"
      ]
    },
    {
      "cell_type": "markdown",
      "id": "3c339f1e-4dde-4745-b7a6-e8741b4fb5e8",
      "metadata": {
        "id": "3c339f1e-4dde-4745-b7a6-e8741b4fb5e8"
      },
      "source": [
        "# Dataset summary"
      ]
    },
    {
      "cell_type": "markdown",
      "source": [
        "The dataset has 110390 rows and 32 columns respectively"
      ],
      "metadata": {
        "id": "zZQoc12BLxxK"
      },
      "id": "zZQoc12BLxxK"
    },
    {
      "cell_type": "code",
      "execution_count": null,
      "id": "14e9bef8-1f10-4e43-892c-d2095d6b9584",
      "metadata": {
        "colab": {
          "base_uri": "https://localhost:8080/"
        },
        "id": "14e9bef8-1f10-4e43-892c-d2095d6b9584",
        "outputId": "c6be71b7-b665-425f-c1b9-a6e114749e71"
      },
      "outputs": [
        {
          "output_type": "execute_result",
          "data": {
            "text/plain": [
              "(119390, 32)"
            ]
          },
          "metadata": {},
          "execution_count": 13
        }
      ],
      "source": [
        "# shape\n",
        "df.shape"
      ]
    },
    {
      "cell_type": "code",
      "execution_count": null,
      "id": "0ae2a636-91d1-4929-aea2-c3a2e2604043",
      "metadata": {
        "colab": {
          "base_uri": "https://localhost:8080/"
        },
        "id": "0ae2a636-91d1-4929-aea2-c3a2e2604043",
        "outputId": "d59b1f12-cee8-43d7-aa01-3755c6ccb32f"
      },
      "outputs": [
        {
          "output_type": "execute_result",
          "data": {
            "text/plain": [
              "hotel                              object\n",
              "is_canceled                         int64\n",
              "lead_time                           int64\n",
              "arrival_date_year                   int64\n",
              "arrival_date_month                 object\n",
              "arrival_date_week_number            int64\n",
              "arrival_date_day_of_month           int64\n",
              "stays_in_weekend_nights             int64\n",
              "stays_in_week_nights                int64\n",
              "adults                              int64\n",
              "children                          float64\n",
              "babies                              int64\n",
              "meal                               object\n",
              "country                            object\n",
              "market_segment                     object\n",
              "distribution_channel               object\n",
              "is_repeated_guest                   int64\n",
              "previous_cancellations              int64\n",
              "previous_bookings_not_canceled      int64\n",
              "reserved_room_type                 object\n",
              "assigned_room_type                 object\n",
              "booking_changes                     int64\n",
              "deposit_type                       object\n",
              "agent                             float64\n",
              "company                           float64\n",
              "days_in_waiting_list                int64\n",
              "customer_type                      object\n",
              "adr                               float64\n",
              "required_car_parking_spaces         int64\n",
              "total_of_special_requests           int64\n",
              "reservation_status                 object\n",
              "reservation_status_date            object\n",
              "dtype: object"
            ]
          },
          "metadata": {},
          "execution_count": 14
        }
      ],
      "source": [
        "# data types of col\n",
        "df.dtypes"
      ]
    },
    {
      "cell_type": "markdown",
      "source": [
        "Below are the numerical columns - continuous variables"
      ],
      "metadata": {
        "id": "YVZR4XbtMTD8"
      },
      "id": "YVZR4XbtMTD8"
    },
    {
      "cell_type": "code",
      "source": [
        "df.select_dtypes(['int','float']).columns"
      ],
      "metadata": {
        "colab": {
          "base_uri": "https://localhost:8080/"
        },
        "id": "WJdhsoLFMSVH",
        "outputId": "1e0644af-97ab-45e0-86b0-63938f16ba91"
      },
      "id": "WJdhsoLFMSVH",
      "execution_count": null,
      "outputs": [
        {
          "output_type": "execute_result",
          "data": {
            "text/plain": [
              "Index(['is_canceled', 'lead_time', 'arrival_date_year',\n",
              "       'arrival_date_week_number', 'arrival_date_day_of_month',\n",
              "       'stays_in_weekend_nights', 'stays_in_week_nights', 'adults', 'children',\n",
              "       'babies', 'is_repeated_guest', 'previous_cancellations',\n",
              "       'previous_bookings_not_canceled', 'booking_changes', 'agent', 'company',\n",
              "       'days_in_waiting_list', 'adr', 'required_car_parking_spaces',\n",
              "       'total_of_special_requests'],\n",
              "      dtype='object')"
            ]
          },
          "metadata": {},
          "execution_count": 15
        }
      ]
    },
    {
      "cell_type": "markdown",
      "source": [
        "And the rest are categorical variables as listed below"
      ],
      "metadata": {
        "id": "MnveBVqnMuKm"
      },
      "id": "MnveBVqnMuKm"
    },
    {
      "cell_type": "code",
      "source": [
        "df.select_dtypes('object').columns"
      ],
      "metadata": {
        "colab": {
          "base_uri": "https://localhost:8080/"
        },
        "id": "HdkYvwG-MuWg",
        "outputId": "679b19ca-b9a5-48ba-8ae6-6e06cabda17c"
      },
      "id": "HdkYvwG-MuWg",
      "execution_count": null,
      "outputs": [
        {
          "output_type": "execute_result",
          "data": {
            "text/plain": [
              "Index(['hotel', 'arrival_date_month', 'meal', 'country', 'market_segment',\n",
              "       'distribution_channel', 'reserved_room_type', 'assigned_room_type',\n",
              "       'deposit_type', 'customer_type', 'reservation_status',\n",
              "       'reservation_status_date'],\n",
              "      dtype='object')"
            ]
          },
          "metadata": {},
          "execution_count": 16
        }
      ]
    },
    {
      "cell_type": "code",
      "execution_count": null,
      "id": "d2b12f84-0cac-4cc6-98dc-6177962266b3",
      "metadata": {
        "colab": {
          "base_uri": "https://localhost:8080/",
          "height": 320
        },
        "id": "d2b12f84-0cac-4cc6-98dc-6177962266b3",
        "outputId": "f95f7cef-1831-4015-d15d-aa18b91b91ba"
      },
      "outputs": [
        {
          "output_type": "execute_result",
          "data": {
            "text/plain": [
              "         is_canceled      lead_time  arrival_date_year  \\\n",
              "count  119390.000000  119390.000000      119390.000000   \n",
              "mean        0.370416     104.011416        2016.156554   \n",
              "std         0.482918     106.863097           0.707476   \n",
              "min         0.000000       0.000000        2015.000000   \n",
              "25%         0.000000      18.000000        2016.000000   \n",
              "50%         0.000000      69.000000        2016.000000   \n",
              "75%         1.000000     160.000000        2017.000000   \n",
              "max         1.000000     737.000000        2017.000000   \n",
              "\n",
              "       arrival_date_week_number  arrival_date_day_of_month  \\\n",
              "count             119390.000000              119390.000000   \n",
              "mean                  27.165173                  15.798241   \n",
              "std                   13.605138                   8.780829   \n",
              "min                    1.000000                   1.000000   \n",
              "25%                   16.000000                   8.000000   \n",
              "50%                   28.000000                  16.000000   \n",
              "75%                   38.000000                  23.000000   \n",
              "max                   53.000000                  31.000000   \n",
              "\n",
              "       stays_in_weekend_nights  stays_in_week_nights         adults  \\\n",
              "count            119390.000000         119390.000000  119390.000000   \n",
              "mean                  0.927599              2.500302       1.856403   \n",
              "std                   0.998613              1.908286       0.579261   \n",
              "min                   0.000000              0.000000       0.000000   \n",
              "25%                   0.000000              1.000000       2.000000   \n",
              "50%                   1.000000              2.000000       2.000000   \n",
              "75%                   2.000000              3.000000       2.000000   \n",
              "max                  19.000000             50.000000      55.000000   \n",
              "\n",
              "            children         babies  is_repeated_guest  \\\n",
              "count  119386.000000  119390.000000      119390.000000   \n",
              "mean        0.103890       0.007949           0.031912   \n",
              "std         0.398561       0.097436           0.175767   \n",
              "min         0.000000       0.000000           0.000000   \n",
              "25%         0.000000       0.000000           0.000000   \n",
              "50%         0.000000       0.000000           0.000000   \n",
              "75%         0.000000       0.000000           0.000000   \n",
              "max        10.000000      10.000000           1.000000   \n",
              "\n",
              "       previous_cancellations  previous_bookings_not_canceled  \\\n",
              "count           119390.000000                   119390.000000   \n",
              "mean                 0.087118                        0.137097   \n",
              "std                  0.844336                        1.497437   \n",
              "min                  0.000000                        0.000000   \n",
              "25%                  0.000000                        0.000000   \n",
              "50%                  0.000000                        0.000000   \n",
              "75%                  0.000000                        0.000000   \n",
              "max                 26.000000                       72.000000   \n",
              "\n",
              "       booking_changes          agent      company  days_in_waiting_list  \\\n",
              "count    119390.000000  103050.000000  6797.000000         119390.000000   \n",
              "mean          0.221124      86.693382   189.266735              2.321149   \n",
              "std           0.652306     110.774548   131.655015             17.594721   \n",
              "min           0.000000       1.000000     6.000000              0.000000   \n",
              "25%           0.000000       9.000000    62.000000              0.000000   \n",
              "50%           0.000000      14.000000   179.000000              0.000000   \n",
              "75%           0.000000     229.000000   270.000000              0.000000   \n",
              "max          21.000000     535.000000   543.000000            391.000000   \n",
              "\n",
              "                 adr  required_car_parking_spaces  total_of_special_requests  \n",
              "count  119390.000000                119390.000000              119390.000000  \n",
              "mean      101.831122                     0.062518                   0.571363  \n",
              "std        50.535790                     0.245291                   0.792798  \n",
              "min        -6.380000                     0.000000                   0.000000  \n",
              "25%        69.290000                     0.000000                   0.000000  \n",
              "50%        94.575000                     0.000000                   0.000000  \n",
              "75%       126.000000                     0.000000                   1.000000  \n",
              "max      5400.000000                     8.000000                   5.000000  "
            ],
            "text/html": [
              "\n",
              "  <div id=\"df-7cfe2c5a-f73e-4f58-8a42-d38e06202061\" class=\"colab-df-container\">\n",
              "    <div>\n",
              "<style scoped>\n",
              "    .dataframe tbody tr th:only-of-type {\n",
              "        vertical-align: middle;\n",
              "    }\n",
              "\n",
              "    .dataframe tbody tr th {\n",
              "        vertical-align: top;\n",
              "    }\n",
              "\n",
              "    .dataframe thead th {\n",
              "        text-align: right;\n",
              "    }\n",
              "</style>\n",
              "<table border=\"1\" class=\"dataframe\">\n",
              "  <thead>\n",
              "    <tr style=\"text-align: right;\">\n",
              "      <th></th>\n",
              "      <th>is_canceled</th>\n",
              "      <th>lead_time</th>\n",
              "      <th>arrival_date_year</th>\n",
              "      <th>arrival_date_week_number</th>\n",
              "      <th>arrival_date_day_of_month</th>\n",
              "      <th>stays_in_weekend_nights</th>\n",
              "      <th>stays_in_week_nights</th>\n",
              "      <th>adults</th>\n",
              "      <th>children</th>\n",
              "      <th>babies</th>\n",
              "      <th>is_repeated_guest</th>\n",
              "      <th>previous_cancellations</th>\n",
              "      <th>previous_bookings_not_canceled</th>\n",
              "      <th>booking_changes</th>\n",
              "      <th>agent</th>\n",
              "      <th>company</th>\n",
              "      <th>days_in_waiting_list</th>\n",
              "      <th>adr</th>\n",
              "      <th>required_car_parking_spaces</th>\n",
              "      <th>total_of_special_requests</th>\n",
              "    </tr>\n",
              "  </thead>\n",
              "  <tbody>\n",
              "    <tr>\n",
              "      <th>count</th>\n",
              "      <td>119390.000000</td>\n",
              "      <td>119390.000000</td>\n",
              "      <td>119390.000000</td>\n",
              "      <td>119390.000000</td>\n",
              "      <td>119390.000000</td>\n",
              "      <td>119390.000000</td>\n",
              "      <td>119390.000000</td>\n",
              "      <td>119390.000000</td>\n",
              "      <td>119386.000000</td>\n",
              "      <td>119390.000000</td>\n",
              "      <td>119390.000000</td>\n",
              "      <td>119390.000000</td>\n",
              "      <td>119390.000000</td>\n",
              "      <td>119390.000000</td>\n",
              "      <td>103050.000000</td>\n",
              "      <td>6797.000000</td>\n",
              "      <td>119390.000000</td>\n",
              "      <td>119390.000000</td>\n",
              "      <td>119390.000000</td>\n",
              "      <td>119390.000000</td>\n",
              "    </tr>\n",
              "    <tr>\n",
              "      <th>mean</th>\n",
              "      <td>0.370416</td>\n",
              "      <td>104.011416</td>\n",
              "      <td>2016.156554</td>\n",
              "      <td>27.165173</td>\n",
              "      <td>15.798241</td>\n",
              "      <td>0.927599</td>\n",
              "      <td>2.500302</td>\n",
              "      <td>1.856403</td>\n",
              "      <td>0.103890</td>\n",
              "      <td>0.007949</td>\n",
              "      <td>0.031912</td>\n",
              "      <td>0.087118</td>\n",
              "      <td>0.137097</td>\n",
              "      <td>0.221124</td>\n",
              "      <td>86.693382</td>\n",
              "      <td>189.266735</td>\n",
              "      <td>2.321149</td>\n",
              "      <td>101.831122</td>\n",
              "      <td>0.062518</td>\n",
              "      <td>0.571363</td>\n",
              "    </tr>\n",
              "    <tr>\n",
              "      <th>std</th>\n",
              "      <td>0.482918</td>\n",
              "      <td>106.863097</td>\n",
              "      <td>0.707476</td>\n",
              "      <td>13.605138</td>\n",
              "      <td>8.780829</td>\n",
              "      <td>0.998613</td>\n",
              "      <td>1.908286</td>\n",
              "      <td>0.579261</td>\n",
              "      <td>0.398561</td>\n",
              "      <td>0.097436</td>\n",
              "      <td>0.175767</td>\n",
              "      <td>0.844336</td>\n",
              "      <td>1.497437</td>\n",
              "      <td>0.652306</td>\n",
              "      <td>110.774548</td>\n",
              "      <td>131.655015</td>\n",
              "      <td>17.594721</td>\n",
              "      <td>50.535790</td>\n",
              "      <td>0.245291</td>\n",
              "      <td>0.792798</td>\n",
              "    </tr>\n",
              "    <tr>\n",
              "      <th>min</th>\n",
              "      <td>0.000000</td>\n",
              "      <td>0.000000</td>\n",
              "      <td>2015.000000</td>\n",
              "      <td>1.000000</td>\n",
              "      <td>1.000000</td>\n",
              "      <td>0.000000</td>\n",
              "      <td>0.000000</td>\n",
              "      <td>0.000000</td>\n",
              "      <td>0.000000</td>\n",
              "      <td>0.000000</td>\n",
              "      <td>0.000000</td>\n",
              "      <td>0.000000</td>\n",
              "      <td>0.000000</td>\n",
              "      <td>0.000000</td>\n",
              "      <td>1.000000</td>\n",
              "      <td>6.000000</td>\n",
              "      <td>0.000000</td>\n",
              "      <td>-6.380000</td>\n",
              "      <td>0.000000</td>\n",
              "      <td>0.000000</td>\n",
              "    </tr>\n",
              "    <tr>\n",
              "      <th>25%</th>\n",
              "      <td>0.000000</td>\n",
              "      <td>18.000000</td>\n",
              "      <td>2016.000000</td>\n",
              "      <td>16.000000</td>\n",
              "      <td>8.000000</td>\n",
              "      <td>0.000000</td>\n",
              "      <td>1.000000</td>\n",
              "      <td>2.000000</td>\n",
              "      <td>0.000000</td>\n",
              "      <td>0.000000</td>\n",
              "      <td>0.000000</td>\n",
              "      <td>0.000000</td>\n",
              "      <td>0.000000</td>\n",
              "      <td>0.000000</td>\n",
              "      <td>9.000000</td>\n",
              "      <td>62.000000</td>\n",
              "      <td>0.000000</td>\n",
              "      <td>69.290000</td>\n",
              "      <td>0.000000</td>\n",
              "      <td>0.000000</td>\n",
              "    </tr>\n",
              "    <tr>\n",
              "      <th>50%</th>\n",
              "      <td>0.000000</td>\n",
              "      <td>69.000000</td>\n",
              "      <td>2016.000000</td>\n",
              "      <td>28.000000</td>\n",
              "      <td>16.000000</td>\n",
              "      <td>1.000000</td>\n",
              "      <td>2.000000</td>\n",
              "      <td>2.000000</td>\n",
              "      <td>0.000000</td>\n",
              "      <td>0.000000</td>\n",
              "      <td>0.000000</td>\n",
              "      <td>0.000000</td>\n",
              "      <td>0.000000</td>\n",
              "      <td>0.000000</td>\n",
              "      <td>14.000000</td>\n",
              "      <td>179.000000</td>\n",
              "      <td>0.000000</td>\n",
              "      <td>94.575000</td>\n",
              "      <td>0.000000</td>\n",
              "      <td>0.000000</td>\n",
              "    </tr>\n",
              "    <tr>\n",
              "      <th>75%</th>\n",
              "      <td>1.000000</td>\n",
              "      <td>160.000000</td>\n",
              "      <td>2017.000000</td>\n",
              "      <td>38.000000</td>\n",
              "      <td>23.000000</td>\n",
              "      <td>2.000000</td>\n",
              "      <td>3.000000</td>\n",
              "      <td>2.000000</td>\n",
              "      <td>0.000000</td>\n",
              "      <td>0.000000</td>\n",
              "      <td>0.000000</td>\n",
              "      <td>0.000000</td>\n",
              "      <td>0.000000</td>\n",
              "      <td>0.000000</td>\n",
              "      <td>229.000000</td>\n",
              "      <td>270.000000</td>\n",
              "      <td>0.000000</td>\n",
              "      <td>126.000000</td>\n",
              "      <td>0.000000</td>\n",
              "      <td>1.000000</td>\n",
              "    </tr>\n",
              "    <tr>\n",
              "      <th>max</th>\n",
              "      <td>1.000000</td>\n",
              "      <td>737.000000</td>\n",
              "      <td>2017.000000</td>\n",
              "      <td>53.000000</td>\n",
              "      <td>31.000000</td>\n",
              "      <td>19.000000</td>\n",
              "      <td>50.000000</td>\n",
              "      <td>55.000000</td>\n",
              "      <td>10.000000</td>\n",
              "      <td>10.000000</td>\n",
              "      <td>1.000000</td>\n",
              "      <td>26.000000</td>\n",
              "      <td>72.000000</td>\n",
              "      <td>21.000000</td>\n",
              "      <td>535.000000</td>\n",
              "      <td>543.000000</td>\n",
              "      <td>391.000000</td>\n",
              "      <td>5400.000000</td>\n",
              "      <td>8.000000</td>\n",
              "      <td>5.000000</td>\n",
              "    </tr>\n",
              "  </tbody>\n",
              "</table>\n",
              "</div>\n",
              "    <div class=\"colab-df-buttons\">\n",
              "\n",
              "  <div class=\"colab-df-container\">\n",
              "    <button class=\"colab-df-convert\" onclick=\"convertToInteractive('df-7cfe2c5a-f73e-4f58-8a42-d38e06202061')\"\n",
              "            title=\"Convert this dataframe to an interactive table.\"\n",
              "            style=\"display:none;\">\n",
              "\n",
              "  <svg xmlns=\"http://www.w3.org/2000/svg\" height=\"24px\" viewBox=\"0 -960 960 960\">\n",
              "    <path d=\"M120-120v-720h720v720H120Zm60-500h600v-160H180v160Zm220 220h160v-160H400v160Zm0 220h160v-160H400v160ZM180-400h160v-160H180v160Zm440 0h160v-160H620v160ZM180-180h160v-160H180v160Zm440 0h160v-160H620v160Z\"/>\n",
              "  </svg>\n",
              "    </button>\n",
              "\n",
              "  <style>\n",
              "    .colab-df-container {\n",
              "      display:flex;\n",
              "      gap: 12px;\n",
              "    }\n",
              "\n",
              "    .colab-df-convert {\n",
              "      background-color: #E8F0FE;\n",
              "      border: none;\n",
              "      border-radius: 50%;\n",
              "      cursor: pointer;\n",
              "      display: none;\n",
              "      fill: #1967D2;\n",
              "      height: 32px;\n",
              "      padding: 0 0 0 0;\n",
              "      width: 32px;\n",
              "    }\n",
              "\n",
              "    .colab-df-convert:hover {\n",
              "      background-color: #E2EBFA;\n",
              "      box-shadow: 0px 1px 2px rgba(60, 64, 67, 0.3), 0px 1px 3px 1px rgba(60, 64, 67, 0.15);\n",
              "      fill: #174EA6;\n",
              "    }\n",
              "\n",
              "    .colab-df-buttons div {\n",
              "      margin-bottom: 4px;\n",
              "    }\n",
              "\n",
              "    [theme=dark] .colab-df-convert {\n",
              "      background-color: #3B4455;\n",
              "      fill: #D2E3FC;\n",
              "    }\n",
              "\n",
              "    [theme=dark] .colab-df-convert:hover {\n",
              "      background-color: #434B5C;\n",
              "      box-shadow: 0px 1px 3px 1px rgba(0, 0, 0, 0.15);\n",
              "      filter: drop-shadow(0px 1px 2px rgba(0, 0, 0, 0.3));\n",
              "      fill: #FFFFFF;\n",
              "    }\n",
              "  </style>\n",
              "\n",
              "    <script>\n",
              "      const buttonEl =\n",
              "        document.querySelector('#df-7cfe2c5a-f73e-4f58-8a42-d38e06202061 button.colab-df-convert');\n",
              "      buttonEl.style.display =\n",
              "        google.colab.kernel.accessAllowed ? 'block' : 'none';\n",
              "\n",
              "      async function convertToInteractive(key) {\n",
              "        const element = document.querySelector('#df-7cfe2c5a-f73e-4f58-8a42-d38e06202061');\n",
              "        const dataTable =\n",
              "          await google.colab.kernel.invokeFunction('convertToInteractive',\n",
              "                                                    [key], {});\n",
              "        if (!dataTable) return;\n",
              "\n",
              "        const docLinkHtml = 'Like what you see? Visit the ' +\n",
              "          '<a target=\"_blank\" href=https://colab.research.google.com/notebooks/data_table.ipynb>data table notebook</a>'\n",
              "          + ' to learn more about interactive tables.';\n",
              "        element.innerHTML = '';\n",
              "        dataTable['output_type'] = 'display_data';\n",
              "        await google.colab.output.renderOutput(dataTable, element);\n",
              "        const docLink = document.createElement('div');\n",
              "        docLink.innerHTML = docLinkHtml;\n",
              "        element.appendChild(docLink);\n",
              "      }\n",
              "    </script>\n",
              "  </div>\n",
              "\n",
              "\n",
              "<div id=\"df-745845b7-92fa-4a0c-86a1-4859f77d7d49\">\n",
              "  <button class=\"colab-df-quickchart\" onclick=\"quickchart('df-745845b7-92fa-4a0c-86a1-4859f77d7d49')\"\n",
              "            title=\"Suggest charts\"\n",
              "            style=\"display:none;\">\n",
              "\n",
              "<svg xmlns=\"http://www.w3.org/2000/svg\" height=\"24px\"viewBox=\"0 0 24 24\"\n",
              "     width=\"24px\">\n",
              "    <g>\n",
              "        <path d=\"M19 3H5c-1.1 0-2 .9-2 2v14c0 1.1.9 2 2 2h14c1.1 0 2-.9 2-2V5c0-1.1-.9-2-2-2zM9 17H7v-7h2v7zm4 0h-2V7h2v10zm4 0h-2v-4h2v4z\"/>\n",
              "    </g>\n",
              "</svg>\n",
              "  </button>\n",
              "\n",
              "<style>\n",
              "  .colab-df-quickchart {\n",
              "      --bg-color: #E8F0FE;\n",
              "      --fill-color: #1967D2;\n",
              "      --hover-bg-color: #E2EBFA;\n",
              "      --hover-fill-color: #174EA6;\n",
              "      --disabled-fill-color: #AAA;\n",
              "      --disabled-bg-color: #DDD;\n",
              "  }\n",
              "\n",
              "  [theme=dark] .colab-df-quickchart {\n",
              "      --bg-color: #3B4455;\n",
              "      --fill-color: #D2E3FC;\n",
              "      --hover-bg-color: #434B5C;\n",
              "      --hover-fill-color: #FFFFFF;\n",
              "      --disabled-bg-color: #3B4455;\n",
              "      --disabled-fill-color: #666;\n",
              "  }\n",
              "\n",
              "  .colab-df-quickchart {\n",
              "    background-color: var(--bg-color);\n",
              "    border: none;\n",
              "    border-radius: 50%;\n",
              "    cursor: pointer;\n",
              "    display: none;\n",
              "    fill: var(--fill-color);\n",
              "    height: 32px;\n",
              "    padding: 0;\n",
              "    width: 32px;\n",
              "  }\n",
              "\n",
              "  .colab-df-quickchart:hover {\n",
              "    background-color: var(--hover-bg-color);\n",
              "    box-shadow: 0 1px 2px rgba(60, 64, 67, 0.3), 0 1px 3px 1px rgba(60, 64, 67, 0.15);\n",
              "    fill: var(--button-hover-fill-color);\n",
              "  }\n",
              "\n",
              "  .colab-df-quickchart-complete:disabled,\n",
              "  .colab-df-quickchart-complete:disabled:hover {\n",
              "    background-color: var(--disabled-bg-color);\n",
              "    fill: var(--disabled-fill-color);\n",
              "    box-shadow: none;\n",
              "  }\n",
              "\n",
              "  .colab-df-spinner {\n",
              "    border: 2px solid var(--fill-color);\n",
              "    border-color: transparent;\n",
              "    border-bottom-color: var(--fill-color);\n",
              "    animation:\n",
              "      spin 1s steps(1) infinite;\n",
              "  }\n",
              "\n",
              "  @keyframes spin {\n",
              "    0% {\n",
              "      border-color: transparent;\n",
              "      border-bottom-color: var(--fill-color);\n",
              "      border-left-color: var(--fill-color);\n",
              "    }\n",
              "    20% {\n",
              "      border-color: transparent;\n",
              "      border-left-color: var(--fill-color);\n",
              "      border-top-color: var(--fill-color);\n",
              "    }\n",
              "    30% {\n",
              "      border-color: transparent;\n",
              "      border-left-color: var(--fill-color);\n",
              "      border-top-color: var(--fill-color);\n",
              "      border-right-color: var(--fill-color);\n",
              "    }\n",
              "    40% {\n",
              "      border-color: transparent;\n",
              "      border-right-color: var(--fill-color);\n",
              "      border-top-color: var(--fill-color);\n",
              "    }\n",
              "    60% {\n",
              "      border-color: transparent;\n",
              "      border-right-color: var(--fill-color);\n",
              "    }\n",
              "    80% {\n",
              "      border-color: transparent;\n",
              "      border-right-color: var(--fill-color);\n",
              "      border-bottom-color: var(--fill-color);\n",
              "    }\n",
              "    90% {\n",
              "      border-color: transparent;\n",
              "      border-bottom-color: var(--fill-color);\n",
              "    }\n",
              "  }\n",
              "</style>\n",
              "\n",
              "  <script>\n",
              "    async function quickchart(key) {\n",
              "      const quickchartButtonEl =\n",
              "        document.querySelector('#' + key + ' button');\n",
              "      quickchartButtonEl.disabled = true;  // To prevent multiple clicks.\n",
              "      quickchartButtonEl.classList.add('colab-df-spinner');\n",
              "      try {\n",
              "        const charts = await google.colab.kernel.invokeFunction(\n",
              "            'suggestCharts', [key], {});\n",
              "      } catch (error) {\n",
              "        console.error('Error during call to suggestCharts:', error);\n",
              "      }\n",
              "      quickchartButtonEl.classList.remove('colab-df-spinner');\n",
              "      quickchartButtonEl.classList.add('colab-df-quickchart-complete');\n",
              "    }\n",
              "    (() => {\n",
              "      let quickchartButtonEl =\n",
              "        document.querySelector('#df-745845b7-92fa-4a0c-86a1-4859f77d7d49 button');\n",
              "      quickchartButtonEl.style.display =\n",
              "        google.colab.kernel.accessAllowed ? 'block' : 'none';\n",
              "    })();\n",
              "  </script>\n",
              "</div>\n",
              "\n",
              "    </div>\n",
              "  </div>\n"
            ],
            "application/vnd.google.colaboratory.intrinsic+json": {
              "type": "dataframe",
              "summary": "{\n  \"name\": \"df\",\n  \"rows\": 8,\n  \"fields\": [\n    {\n      \"column\": \"is_canceled\",\n      \"properties\": {\n        \"dtype\": \"number\",\n        \"std\": 42210.59518981826,\n        \"min\": 0.0,\n        \"max\": 119390.0,\n        \"num_unique_values\": 5,\n        \"samples\": [\n          0.37041628277075134,\n          1.0,\n          0.4829182265925984\n        ],\n        \"semantic_type\": \"\",\n        \"description\": \"\"\n      }\n    },\n    {\n      \"column\": \"lead_time\",\n      \"properties\": {\n        \"dtype\": \"number\",\n        \"std\": 42151.05353185858,\n        \"min\": 0.0,\n        \"max\": 119390.0,\n        \"num_unique_values\": 8,\n        \"samples\": [\n          104.01141636652986,\n          69.0,\n          119390.0\n        ],\n        \"semantic_type\": \"\",\n        \"description\": \"\"\n      }\n    },\n    {\n      \"column\": \"arrival_date_year\",\n      \"properties\": {\n        \"dtype\": \"number\",\n        \"std\": 41605.68299841429,\n        \"min\": 0.7074759445203559,\n        \"max\": 119390.0,\n        \"num_unique_values\": 6,\n        \"samples\": [\n          119390.0,\n          2016.156554150264,\n          2017.0\n        ],\n        \"semantic_type\": \"\",\n        \"description\": \"\"\n      }\n    },\n    {\n      \"column\": \"arrival_date_week_number\",\n      \"properties\": {\n        \"dtype\": \"number\",\n        \"std\": 42201.81402111843,\n        \"min\": 1.0,\n        \"max\": 119390.0,\n        \"num_unique_values\": 8,\n        \"samples\": [\n          27.16517296255968,\n          28.0,\n          119390.0\n        ],\n        \"semantic_type\": \"\",\n        \"description\": \"\"\n      }\n    },\n    {\n      \"column\": \"arrival_date_day_of_month\",\n      \"properties\": {\n        \"dtype\": \"number\",\n        \"std\": 42205.50879379506,\n        \"min\": 1.0,\n        \"max\": 119390.0,\n        \"num_unique_values\": 8,\n        \"samples\": [\n          15.798241058715135,\n          16.0,\n          119390.0\n        ],\n        \"semantic_type\": \"\",\n        \"description\": \"\"\n      }\n    },\n    {\n      \"column\": \"stays_in_weekend_nights\",\n      \"properties\": {\n        \"dtype\": \"number\",\n        \"std\": 42209.5313308388,\n        \"min\": 0.0,\n        \"max\": 119390.0,\n        \"num_unique_values\": 7,\n        \"samples\": [\n          119390.0,\n          0.9275986263506156,\n          2.0\n        ],\n        \"semantic_type\": \"\",\n        \"description\": \"\"\n      }\n    },\n    {\n      \"column\": \"stays_in_week_nights\",\n      \"properties\": {\n        \"dtype\": \"number\",\n        \"std\": 42207.69159751826,\n        \"min\": 0.0,\n        \"max\": 119390.0,\n        \"num_unique_values\": 8,\n        \"samples\": [\n          2.500301532791691,\n          2.0,\n          119390.0\n        ],\n        \"semantic_type\": \"\",\n        \"description\": \"\"\n      }\n    },\n    {\n      \"column\": \"adults\",\n      \"properties\": {\n        \"dtype\": \"number\",\n        \"std\": 42207.539491149604,\n        \"min\": 0.0,\n        \"max\": 119390.0,\n        \"num_unique_values\": 6,\n        \"samples\": [\n          119390.0,\n          1.8564033838679956,\n          55.0\n        ],\n        \"semantic_type\": \"\",\n        \"description\": \"\"\n      }\n    },\n    {\n      \"column\": \"children\",\n      \"properties\": {\n        \"dtype\": \"number\",\n        \"std\": 42208.79477831908,\n        \"min\": 0.0,\n        \"max\": 119386.0,\n        \"num_unique_values\": 5,\n        \"samples\": [\n          0.10388990333874994,\n          10.0,\n          0.3985614447864417\n        ],\n        \"semantic_type\": \"\",\n        \"description\": \"\"\n      }\n    },\n    {\n      \"column\": \"babies\",\n      \"properties\": {\n        \"dtype\": \"number\",\n        \"std\": 42210.22904846641,\n        \"min\": 0.0,\n        \"max\": 119390.0,\n        \"num_unique_values\": 5,\n        \"samples\": [\n          0.007948739425412514,\n          10.0,\n          0.09743619130126437\n        ],\n        \"semantic_type\": \"\",\n        \"description\": \"\"\n      }\n    },\n    {\n      \"column\": \"is_repeated_guest\",\n      \"properties\": {\n        \"dtype\": \"number\",\n        \"std\": 42210.67830730535,\n        \"min\": 0.0,\n        \"max\": 119390.0,\n        \"num_unique_values\": 5,\n        \"samples\": [\n          0.03191222045397437,\n          1.0,\n          0.17576714541065658\n        ],\n        \"semantic_type\": \"\",\n        \"description\": \"\"\n      }\n    },\n    {\n      \"column\": \"previous_cancellations\",\n      \"properties\": {\n        \"dtype\": \"number\",\n        \"std\": 42209.38002891463,\n        \"min\": 0.0,\n        \"max\": 119390.0,\n        \"num_unique_values\": 5,\n        \"samples\": [\n          0.08711784906608594,\n          26.0,\n          0.8443363841545105\n        ],\n        \"semantic_type\": \"\",\n        \"description\": \"\"\n      }\n    },\n    {\n      \"column\": \"previous_bookings_not_canceled\",\n      \"properties\": {\n        \"dtype\": \"number\",\n        \"std\": 42207.027663410394,\n        \"min\": 0.0,\n        \"max\": 119390.0,\n        \"num_unique_values\": 5,\n        \"samples\": [\n          0.13709690928888515,\n          72.0,\n          1.4974368477076776\n        ],\n        \"semantic_type\": \"\",\n        \"description\": \"\"\n      }\n    },\n    {\n      \"column\": \"booking_changes\",\n      \"properties\": {\n        \"dtype\": \"number\",\n        \"std\": 42209.63515931599,\n        \"min\": 0.0,\n        \"max\": 119390.0,\n        \"num_unique_values\": 5,\n        \"samples\": [\n          0.22112404724013737,\n          21.0,\n          0.6523055726747721\n        ],\n        \"semantic_type\": \"\",\n        \"description\": \"\"\n      }\n    },\n    {\n      \"column\": \"agent\",\n      \"properties\": {\n        \"dtype\": \"number\",\n        \"std\": 36384.33514445704,\n        \"min\": 1.0,\n        \"max\": 103050.0,\n        \"num_unique_values\": 8,\n        \"samples\": [\n          86.69338185346919,\n          14.0,\n          103050.0\n        ],\n        \"semantic_type\": \"\",\n        \"description\": \"\"\n      }\n    },\n    {\n      \"column\": \"company\",\n      \"properties\": {\n        \"dtype\": \"number\",\n        \"std\": 2338.993477710788,\n        \"min\": 6.0,\n        \"max\": 6797.0,\n        \"num_unique_values\": 8,\n        \"samples\": [\n          189.26673532440782,\n          179.0,\n          6797.0\n        ],\n        \"semantic_type\": \"\",\n        \"description\": \"\"\n      }\n    },\n    {\n      \"column\": \"days_in_waiting_list\",\n      \"properties\": {\n        \"dtype\": \"number\",\n        \"std\": 42190.20344235136,\n        \"min\": 0.0,\n        \"max\": 119390.0,\n        \"num_unique_values\": 5,\n        \"samples\": [\n          2.321149174972778,\n          391.0,\n          17.594720878776215\n        ],\n        \"semantic_type\": \"\",\n        \"description\": \"\"\n      }\n    },\n    {\n      \"column\": \"adr\",\n      \"properties\": {\n        \"dtype\": \"number\",\n        \"std\": 41957.43665958635,\n        \"min\": -6.38,\n        \"max\": 119390.0,\n        \"num_unique_values\": 8,\n        \"samples\": [\n          101.83112153446686,\n          94.575,\n          119390.0\n        ],\n        \"semantic_type\": \"\",\n        \"description\": \"\"\n      }\n    },\n    {\n      \"column\": \"required_car_parking_spaces\",\n      \"properties\": {\n        \"dtype\": \"number\",\n        \"std\": 42210.31978693818,\n        \"min\": 0.0,\n        \"max\": 119390.0,\n        \"num_unique_values\": 5,\n        \"samples\": [\n          0.06251779881062065,\n          8.0,\n          0.2452911474674936\n        ],\n        \"semantic_type\": \"\",\n        \"description\": \"\"\n      }\n    },\n    {\n      \"column\": \"total_of_special_requests\",\n      \"properties\": {\n        \"dtype\": \"number\",\n        \"std\": 42210.36738912644,\n        \"min\": 0.0,\n        \"max\": 119390.0,\n        \"num_unique_values\": 6,\n        \"samples\": [\n          119390.0,\n          0.5713627607002262,\n          5.0\n        ],\n        \"semantic_type\": \"\",\n        \"description\": \"\"\n      }\n    }\n  ]\n}"
            }
          },
          "metadata": {},
          "execution_count": 17
        }
      ],
      "source": [
        "# first few rows\n",
        "df.describe()"
      ]
    },
    {
      "cell_type": "markdown",
      "source": [
        "# Handling Nulls, Duplicates"
      ],
      "metadata": {
        "id": "Z0dhONmAWckI"
      },
      "id": "Z0dhONmAWckI"
    },
    {
      "cell_type": "markdown",
      "id": "d73e9f0c-415b-46f5-9861-bc458dd47342",
      "metadata": {
        "id": "d73e9f0c-415b-46f5-9861-bc458dd47342"
      },
      "source": [
        "## Handling null values\n",
        "\n",
        "looks like 4 columns are empty - children, country, agent, company"
      ]
    },
    {
      "cell_type": "code",
      "execution_count": null,
      "id": "4f163ace-a325-458f-b2f7-146ebb18868d",
      "metadata": {
        "colab": {
          "base_uri": "https://localhost:8080/"
        },
        "id": "4f163ace-a325-458f-b2f7-146ebb18868d",
        "outputId": "a2060660-8a39-4d42-dd64-9837e5eac657"
      },
      "outputs": [
        {
          "output_type": "execute_result",
          "data": {
            "text/plain": [
              "hotel                                  0\n",
              "is_canceled                            0\n",
              "lead_time                              0\n",
              "arrival_date_year                      0\n",
              "arrival_date_month                     0\n",
              "arrival_date_week_number               0\n",
              "arrival_date_day_of_month              0\n",
              "stays_in_weekend_nights                0\n",
              "stays_in_week_nights                   0\n",
              "adults                                 0\n",
              "children                               4\n",
              "babies                                 0\n",
              "meal                                   0\n",
              "country                              488\n",
              "market_segment                         0\n",
              "distribution_channel                   0\n",
              "is_repeated_guest                      0\n",
              "previous_cancellations                 0\n",
              "previous_bookings_not_canceled         0\n",
              "reserved_room_type                     0\n",
              "assigned_room_type                     0\n",
              "booking_changes                        0\n",
              "deposit_type                           0\n",
              "agent                              16340\n",
              "company                           112593\n",
              "days_in_waiting_list                   0\n",
              "customer_type                          0\n",
              "adr                                    0\n",
              "required_car_parking_spaces            0\n",
              "total_of_special_requests              0\n",
              "reservation_status                     0\n",
              "reservation_status_date                0\n",
              "dtype: int64"
            ]
          },
          "metadata": {},
          "execution_count": 18
        }
      ],
      "source": [
        "# checking for null values\n",
        "\n",
        "df.isnull().sum()"
      ]
    },
    {
      "cell_type": "code",
      "execution_count": null,
      "id": "63ab3b00-afb0-45c8-a12c-705eed315cab",
      "metadata": {
        "colab": {
          "base_uri": "https://localhost:8080/"
        },
        "id": "63ab3b00-afb0-45c8-a12c-705eed315cab",
        "outputId": "37ee0a97-2e93-4c14-d505-6f0bc83bef50"
      },
      "outputs": [
        {
          "output_type": "stream",
          "name": "stdout",
          "text": [
            "The mode is  0    0.0\n",
            "Name: children, dtype: float64\n"
          ]
        },
        {
          "output_type": "execute_result",
          "data": {
            "text/plain": [
              "0"
            ]
          },
          "metadata": {},
          "execution_count": 19
        }
      ],
      "source": [
        "# children column\n",
        "\n",
        "# since it represents the number of children associated with each booking, lets see what is the most repeated value.\n",
        "# it can be checked with mode, or using value_counts()\n",
        "print(\"The mode is \",df['children'].mode())\n",
        "\n",
        "# using value counts\n",
        "df['children'].value_counts()\n",
        "\n",
        "# looks like, the mode is 0. lets replace the null values in this column with 0\n",
        "df['children'] = df['children'].fillna(0)\n",
        "\n",
        "# checking for NA's again\n",
        "df['children'].isna().sum()"
      ]
    },
    {
      "cell_type": "code",
      "execution_count": null,
      "id": "eb472cd6-388f-42bd-9119-4ab95ffe09e6",
      "metadata": {
        "colab": {
          "base_uri": "https://localhost:8080/"
        },
        "id": "eb472cd6-388f-42bd-9119-4ab95ffe09e6",
        "outputId": "7a53cf68-3a49-4f47-a3eb-46f02a1eb269"
      },
      "outputs": [
        {
          "output_type": "stream",
          "name": "stdout",
          "text": [
            "The null values are  488\n",
            "the shape of the dataset is  (119390, 32)\n",
            "The null values are  0\n"
          ]
        }
      ],
      "source": [
        "# country column\n",
        "\n",
        "# lets see the value_counts\n",
        "df['country'].value_counts()\n",
        "\n",
        "print('The null values are ', df['country'].isna().sum())\n",
        "print('the shape of the dataset is ', df.shape)\n",
        "# looks like there are numeroud countries. we can either remove or fill this values with a string.\n",
        "# I am choosing to remove the 488 entries as this is a big dataset and removing these rows wont effect the analysis significantly\n",
        "\n",
        "# To remove rows where 'country' is NaN, use dropna\n",
        "df = df.dropna(subset=['country'])\n",
        "\n",
        "print('The null values are ', df['country'].isna().sum())"
      ]
    },
    {
      "cell_type": "code",
      "execution_count": null,
      "id": "d3cd6ce7-1ab1-4e7c-ba6c-558a8d6f2135",
      "metadata": {
        "colab": {
          "base_uri": "https://localhost:8080/"
        },
        "id": "d3cd6ce7-1ab1-4e7c-ba6c-558a8d6f2135",
        "outputId": "a3e2246a-10b4-4d82-f57c-7b4b96cd0f5d"
      },
      "outputs": [
        {
          "output_type": "execute_result",
          "data": {
            "text/plain": [
              "0    PRT\n",
              "1    PRT\n",
              "2    GBR\n",
              "3    GBR\n",
              "4    GBR\n",
              "Name: country, dtype: object"
            ]
          },
          "metadata": {},
          "execution_count": 21
        }
      ],
      "source": [
        "df['country'].head()"
      ]
    },
    {
      "cell_type": "code",
      "execution_count": null,
      "id": "8db94a3f-9f9e-44bc-8df1-37c468e91c59",
      "metadata": {
        "colab": {
          "base_uri": "https://localhost:8080/"
        },
        "id": "8db94a3f-9f9e-44bc-8df1-37c468e91c59",
        "outputId": "e031284f-6a4c-4e0b-d661-03a733ac3e78"
      },
      "outputs": [
        {
          "output_type": "stream",
          "name": "stdout",
          "text": [
            "The agent columns has  16006  null values\n",
            "The agent columns has  0  null values after filling\n"
          ]
        }
      ],
      "source": [
        "# agent column\n",
        "\n",
        "# it represents the ID of the agent who made reservation. This is critical to the dataset.\n",
        "print(\"The agent columns has \", df['agent'].isnull().sum(), \" null values\")\n",
        "\n",
        "# looks like the agent ID are starting from 1 onwards. So we can fill the empty ones with 0\n",
        "df['agent'].sort_values()\n",
        "\n",
        "# filling NA's\n",
        "df['agent'] = df['agent'].fillna(0)\n",
        "\n",
        "print(\"The agent columns has \", df['agent'].isnull().sum(), \" null values after filling\")"
      ]
    },
    {
      "cell_type": "code",
      "execution_count": null,
      "id": "a2eb5043-b054-4db6-a2d5-05ffa8e02df8",
      "metadata": {
        "colab": {
          "base_uri": "https://localhost:8080/"
        },
        "id": "a2eb5043-b054-4db6-a2d5-05ffa8e02df8",
        "outputId": "036378b6-ebbd-4f21-a1c9-e7df3322c53e"
      },
      "outputs": [
        {
          "output_type": "stream",
          "name": "stdout",
          "text": [
            "The company columns has  112279  null values\n",
            "The company columns has  0  null values after filling\n"
          ]
        }
      ],
      "source": [
        "# company: Id of the company making a booking\n",
        "\n",
        "# a significant number of null values are there. This column can help in our analysis. lets keep it for now. So lets fill the empty ones with 0\n",
        "print(\"The company columns has \", df['company'].isnull().sum(), \" null values\")\n",
        "\n",
        "# filling NA's\n",
        "df['company'] = df['company'].fillna(0)\n",
        "\n",
        "print(\"The company columns has \", df['company'].isnull().sum(), \" null values after filling\")"
      ]
    },
    {
      "cell_type": "markdown",
      "id": "f2211656-2327-4f43-9bc7-7604a3d21a5c",
      "metadata": {
        "id": "f2211656-2327-4f43-9bc7-7604a3d21a5c"
      },
      "source": [
        "## Handling duplicates"
      ]
    },
    {
      "cell_type": "code",
      "execution_count": null,
      "id": "491ade4a-c701-4e57-bb8c-0d0011b08c8b",
      "metadata": {
        "id": "491ade4a-c701-4e57-bb8c-0d0011b08c8b"
      },
      "outputs": [],
      "source": [
        "# checking for dupliactes\n",
        "df.duplicated().sum()\n",
        "\n",
        "# removing duplicates\n",
        "df = df.drop_duplicates(keep=False)\n",
        "\n"
      ]
    },
    {
      "cell_type": "markdown",
      "source": [
        "# Statistical Analysis and Handling Outliers\n",
        "\n",
        "This is a good point to start understanding the distribution of data using histograms, scatterplots and correlations. This section also helps to identify outliers\n",
        "\n",
        "Right now, the columns I would like to investigate are *'lead_time','stays_in_weekend_nights','stays_in_week_nights','booking_changes','adr'*\n",
        "\n"
      ],
      "metadata": {
        "id": "h2qEaMtegtZi"
      },
      "id": "h2qEaMtegtZi"
    },
    {
      "cell_type": "code",
      "source": [
        "df.describe()"
      ],
      "metadata": {
        "colab": {
          "base_uri": "https://localhost:8080/",
          "height": 320
        },
        "id": "k9yFVkcdkPTa",
        "outputId": "1fce0b43-a45e-494d-a09d-0303fe23a1e1"
      },
      "id": "k9yFVkcdkPTa",
      "execution_count": null,
      "outputs": [
        {
          "output_type": "execute_result",
          "data": {
            "text/plain": [
              "        is_canceled     lead_time  arrival_date_year  \\\n",
              "count  78783.000000  78783.000000       78783.000000   \n",
              "mean       0.263331     75.890154        2016.221241   \n",
              "std        0.440443     81.899811           0.680886   \n",
              "min        0.000000      0.000000        2015.000000   \n",
              "25%        0.000000     11.000000        2016.000000   \n",
              "50%        0.000000     46.000000        2016.000000   \n",
              "75%        1.000000    119.000000        2017.000000   \n",
              "max        1.000000    737.000000        2017.000000   \n",
              "\n",
              "       arrival_date_week_number  arrival_date_day_of_month  \\\n",
              "count              78783.000000               78783.000000   \n",
              "mean                  26.734359                  15.801099   \n",
              "std                   13.640985                   8.841989   \n",
              "min                    1.000000                   1.000000   \n",
              "25%                   16.000000                   8.000000   \n",
              "50%                   27.000000                  16.000000   \n",
              "75%                   37.000000                  23.000000   \n",
              "max                   53.000000                  31.000000   \n",
              "\n",
              "       stays_in_weekend_nights  stays_in_week_nights        adults  \\\n",
              "count             78783.000000          78783.000000  78783.000000   \n",
              "mean                  1.021527              2.656284      1.888466   \n",
              "std                   1.037097              2.075923      0.639046   \n",
              "min                   0.000000              0.000000      0.000000   \n",
              "25%                   0.000000              1.000000      2.000000   \n",
              "50%                   1.000000              2.000000      2.000000   \n",
              "75%                   2.000000              4.000000      2.000000   \n",
              "max                  16.000000             41.000000     55.000000   \n",
              "\n",
              "           children        babies  is_repeated_guest  previous_cancellations  \\\n",
              "count  78783.000000  78783.000000       78783.000000            78783.000000   \n",
              "mean       0.150489      0.011919           0.042192                0.025805   \n",
              "std        0.473724      0.119116           0.201028                0.315229   \n",
              "min        0.000000      0.000000           0.000000                0.000000   \n",
              "25%        0.000000      0.000000           0.000000                0.000000   \n",
              "50%        0.000000      0.000000           0.000000                0.000000   \n",
              "75%        0.000000      0.000000           0.000000                0.000000   \n",
              "max       10.000000     10.000000           1.000000               25.000000   \n",
              "\n",
              "       previous_bookings_not_canceled  booking_changes         agent  \\\n",
              "count                    78783.000000     78783.000000  78783.000000   \n",
              "mean                         0.193532         0.282231     82.375030   \n",
              "std                          1.799981         0.746750    110.176416   \n",
              "min                          0.000000         0.000000      0.000000   \n",
              "25%                          0.000000         0.000000      9.000000   \n",
              "50%                          0.000000         0.000000      9.000000   \n",
              "75%                          0.000000         0.000000    240.000000   \n",
              "max                         72.000000        21.000000    535.000000   \n",
              "\n",
              "            company  days_in_waiting_list           adr  \\\n",
              "count  78783.000000          78783.000000  78783.000000   \n",
              "mean      10.500768              0.494739    108.001814   \n",
              "std       52.670196              7.678469     56.170414   \n",
              "min        0.000000              0.000000     -6.380000   \n",
              "25%        0.000000              0.000000     73.200000   \n",
              "50%        0.000000              0.000000     99.450000   \n",
              "75%        0.000000              0.000000    136.000000   \n",
              "max      543.000000            330.000000   5400.000000   \n",
              "\n",
              "       required_car_parking_spaces  total_of_special_requests  \n",
              "count                 78783.000000               78783.000000  \n",
              "mean                      0.091022                   0.716741  \n",
              "std                       0.291718                   0.835319  \n",
              "min                       0.000000                   0.000000  \n",
              "25%                       0.000000                   0.000000  \n",
              "50%                       0.000000                   1.000000  \n",
              "75%                       0.000000                   1.000000  \n",
              "max                       8.000000                   5.000000  "
            ],
            "text/html": [
              "\n",
              "  <div id=\"df-07477114-f29d-441f-bcfb-d3915b2ee336\" class=\"colab-df-container\">\n",
              "    <div>\n",
              "<style scoped>\n",
              "    .dataframe tbody tr th:only-of-type {\n",
              "        vertical-align: middle;\n",
              "    }\n",
              "\n",
              "    .dataframe tbody tr th {\n",
              "        vertical-align: top;\n",
              "    }\n",
              "\n",
              "    .dataframe thead th {\n",
              "        text-align: right;\n",
              "    }\n",
              "</style>\n",
              "<table border=\"1\" class=\"dataframe\">\n",
              "  <thead>\n",
              "    <tr style=\"text-align: right;\">\n",
              "      <th></th>\n",
              "      <th>is_canceled</th>\n",
              "      <th>lead_time</th>\n",
              "      <th>arrival_date_year</th>\n",
              "      <th>arrival_date_week_number</th>\n",
              "      <th>arrival_date_day_of_month</th>\n",
              "      <th>stays_in_weekend_nights</th>\n",
              "      <th>stays_in_week_nights</th>\n",
              "      <th>adults</th>\n",
              "      <th>children</th>\n",
              "      <th>babies</th>\n",
              "      <th>is_repeated_guest</th>\n",
              "      <th>previous_cancellations</th>\n",
              "      <th>previous_bookings_not_canceled</th>\n",
              "      <th>booking_changes</th>\n",
              "      <th>agent</th>\n",
              "      <th>company</th>\n",
              "      <th>days_in_waiting_list</th>\n",
              "      <th>adr</th>\n",
              "      <th>required_car_parking_spaces</th>\n",
              "      <th>total_of_special_requests</th>\n",
              "    </tr>\n",
              "  </thead>\n",
              "  <tbody>\n",
              "    <tr>\n",
              "      <th>count</th>\n",
              "      <td>78783.000000</td>\n",
              "      <td>78783.000000</td>\n",
              "      <td>78783.000000</td>\n",
              "      <td>78783.000000</td>\n",
              "      <td>78783.000000</td>\n",
              "      <td>78783.000000</td>\n",
              "      <td>78783.000000</td>\n",
              "      <td>78783.000000</td>\n",
              "      <td>78783.000000</td>\n",
              "      <td>78783.000000</td>\n",
              "      <td>78783.000000</td>\n",
              "      <td>78783.000000</td>\n",
              "      <td>78783.000000</td>\n",
              "      <td>78783.000000</td>\n",
              "      <td>78783.000000</td>\n",
              "      <td>78783.000000</td>\n",
              "      <td>78783.000000</td>\n",
              "      <td>78783.000000</td>\n",
              "      <td>78783.000000</td>\n",
              "      <td>78783.000000</td>\n",
              "    </tr>\n",
              "    <tr>\n",
              "      <th>mean</th>\n",
              "      <td>0.263331</td>\n",
              "      <td>75.890154</td>\n",
              "      <td>2016.221241</td>\n",
              "      <td>26.734359</td>\n",
              "      <td>15.801099</td>\n",
              "      <td>1.021527</td>\n",
              "      <td>2.656284</td>\n",
              "      <td>1.888466</td>\n",
              "      <td>0.150489</td>\n",
              "      <td>0.011919</td>\n",
              "      <td>0.042192</td>\n",
              "      <td>0.025805</td>\n",
              "      <td>0.193532</td>\n",
              "      <td>0.282231</td>\n",
              "      <td>82.375030</td>\n",
              "      <td>10.500768</td>\n",
              "      <td>0.494739</td>\n",
              "      <td>108.001814</td>\n",
              "      <td>0.091022</td>\n",
              "      <td>0.716741</td>\n",
              "    </tr>\n",
              "    <tr>\n",
              "      <th>std</th>\n",
              "      <td>0.440443</td>\n",
              "      <td>81.899811</td>\n",
              "      <td>0.680886</td>\n",
              "      <td>13.640985</td>\n",
              "      <td>8.841989</td>\n",
              "      <td>1.037097</td>\n",
              "      <td>2.075923</td>\n",
              "      <td>0.639046</td>\n",
              "      <td>0.473724</td>\n",
              "      <td>0.119116</td>\n",
              "      <td>0.201028</td>\n",
              "      <td>0.315229</td>\n",
              "      <td>1.799981</td>\n",
              "      <td>0.746750</td>\n",
              "      <td>110.176416</td>\n",
              "      <td>52.670196</td>\n",
              "      <td>7.678469</td>\n",
              "      <td>56.170414</td>\n",
              "      <td>0.291718</td>\n",
              "      <td>0.835319</td>\n",
              "    </tr>\n",
              "    <tr>\n",
              "      <th>min</th>\n",
              "      <td>0.000000</td>\n",
              "      <td>0.000000</td>\n",
              "      <td>2015.000000</td>\n",
              "      <td>1.000000</td>\n",
              "      <td>1.000000</td>\n",
              "      <td>0.000000</td>\n",
              "      <td>0.000000</td>\n",
              "      <td>0.000000</td>\n",
              "      <td>0.000000</td>\n",
              "      <td>0.000000</td>\n",
              "      <td>0.000000</td>\n",
              "      <td>0.000000</td>\n",
              "      <td>0.000000</td>\n",
              "      <td>0.000000</td>\n",
              "      <td>0.000000</td>\n",
              "      <td>0.000000</td>\n",
              "      <td>0.000000</td>\n",
              "      <td>-6.380000</td>\n",
              "      <td>0.000000</td>\n",
              "      <td>0.000000</td>\n",
              "    </tr>\n",
              "    <tr>\n",
              "      <th>25%</th>\n",
              "      <td>0.000000</td>\n",
              "      <td>11.000000</td>\n",
              "      <td>2016.000000</td>\n",
              "      <td>16.000000</td>\n",
              "      <td>8.000000</td>\n",
              "      <td>0.000000</td>\n",
              "      <td>1.000000</td>\n",
              "      <td>2.000000</td>\n",
              "      <td>0.000000</td>\n",
              "      <td>0.000000</td>\n",
              "      <td>0.000000</td>\n",
              "      <td>0.000000</td>\n",
              "      <td>0.000000</td>\n",
              "      <td>0.000000</td>\n",
              "      <td>9.000000</td>\n",
              "      <td>0.000000</td>\n",
              "      <td>0.000000</td>\n",
              "      <td>73.200000</td>\n",
              "      <td>0.000000</td>\n",
              "      <td>0.000000</td>\n",
              "    </tr>\n",
              "    <tr>\n",
              "      <th>50%</th>\n",
              "      <td>0.000000</td>\n",
              "      <td>46.000000</td>\n",
              "      <td>2016.000000</td>\n",
              "      <td>27.000000</td>\n",
              "      <td>16.000000</td>\n",
              "      <td>1.000000</td>\n",
              "      <td>2.000000</td>\n",
              "      <td>2.000000</td>\n",
              "      <td>0.000000</td>\n",
              "      <td>0.000000</td>\n",
              "      <td>0.000000</td>\n",
              "      <td>0.000000</td>\n",
              "      <td>0.000000</td>\n",
              "      <td>0.000000</td>\n",
              "      <td>9.000000</td>\n",
              "      <td>0.000000</td>\n",
              "      <td>0.000000</td>\n",
              "      <td>99.450000</td>\n",
              "      <td>0.000000</td>\n",
              "      <td>1.000000</td>\n",
              "    </tr>\n",
              "    <tr>\n",
              "      <th>75%</th>\n",
              "      <td>1.000000</td>\n",
              "      <td>119.000000</td>\n",
              "      <td>2017.000000</td>\n",
              "      <td>37.000000</td>\n",
              "      <td>23.000000</td>\n",
              "      <td>2.000000</td>\n",
              "      <td>4.000000</td>\n",
              "      <td>2.000000</td>\n",
              "      <td>0.000000</td>\n",
              "      <td>0.000000</td>\n",
              "      <td>0.000000</td>\n",
              "      <td>0.000000</td>\n",
              "      <td>0.000000</td>\n",
              "      <td>0.000000</td>\n",
              "      <td>240.000000</td>\n",
              "      <td>0.000000</td>\n",
              "      <td>0.000000</td>\n",
              "      <td>136.000000</td>\n",
              "      <td>0.000000</td>\n",
              "      <td>1.000000</td>\n",
              "    </tr>\n",
              "    <tr>\n",
              "      <th>max</th>\n",
              "      <td>1.000000</td>\n",
              "      <td>737.000000</td>\n",
              "      <td>2017.000000</td>\n",
              "      <td>53.000000</td>\n",
              "      <td>31.000000</td>\n",
              "      <td>16.000000</td>\n",
              "      <td>41.000000</td>\n",
              "      <td>55.000000</td>\n",
              "      <td>10.000000</td>\n",
              "      <td>10.000000</td>\n",
              "      <td>1.000000</td>\n",
              "      <td>25.000000</td>\n",
              "      <td>72.000000</td>\n",
              "      <td>21.000000</td>\n",
              "      <td>535.000000</td>\n",
              "      <td>543.000000</td>\n",
              "      <td>330.000000</td>\n",
              "      <td>5400.000000</td>\n",
              "      <td>8.000000</td>\n",
              "      <td>5.000000</td>\n",
              "    </tr>\n",
              "  </tbody>\n",
              "</table>\n",
              "</div>\n",
              "    <div class=\"colab-df-buttons\">\n",
              "\n",
              "  <div class=\"colab-df-container\">\n",
              "    <button class=\"colab-df-convert\" onclick=\"convertToInteractive('df-07477114-f29d-441f-bcfb-d3915b2ee336')\"\n",
              "            title=\"Convert this dataframe to an interactive table.\"\n",
              "            style=\"display:none;\">\n",
              "\n",
              "  <svg xmlns=\"http://www.w3.org/2000/svg\" height=\"24px\" viewBox=\"0 -960 960 960\">\n",
              "    <path d=\"M120-120v-720h720v720H120Zm60-500h600v-160H180v160Zm220 220h160v-160H400v160Zm0 220h160v-160H400v160ZM180-400h160v-160H180v160Zm440 0h160v-160H620v160ZM180-180h160v-160H180v160Zm440 0h160v-160H620v160Z\"/>\n",
              "  </svg>\n",
              "    </button>\n",
              "\n",
              "  <style>\n",
              "    .colab-df-container {\n",
              "      display:flex;\n",
              "      gap: 12px;\n",
              "    }\n",
              "\n",
              "    .colab-df-convert {\n",
              "      background-color: #E8F0FE;\n",
              "      border: none;\n",
              "      border-radius: 50%;\n",
              "      cursor: pointer;\n",
              "      display: none;\n",
              "      fill: #1967D2;\n",
              "      height: 32px;\n",
              "      padding: 0 0 0 0;\n",
              "      width: 32px;\n",
              "    }\n",
              "\n",
              "    .colab-df-convert:hover {\n",
              "      background-color: #E2EBFA;\n",
              "      box-shadow: 0px 1px 2px rgba(60, 64, 67, 0.3), 0px 1px 3px 1px rgba(60, 64, 67, 0.15);\n",
              "      fill: #174EA6;\n",
              "    }\n",
              "\n",
              "    .colab-df-buttons div {\n",
              "      margin-bottom: 4px;\n",
              "    }\n",
              "\n",
              "    [theme=dark] .colab-df-convert {\n",
              "      background-color: #3B4455;\n",
              "      fill: #D2E3FC;\n",
              "    }\n",
              "\n",
              "    [theme=dark] .colab-df-convert:hover {\n",
              "      background-color: #434B5C;\n",
              "      box-shadow: 0px 1px 3px 1px rgba(0, 0, 0, 0.15);\n",
              "      filter: drop-shadow(0px 1px 2px rgba(0, 0, 0, 0.3));\n",
              "      fill: #FFFFFF;\n",
              "    }\n",
              "  </style>\n",
              "\n",
              "    <script>\n",
              "      const buttonEl =\n",
              "        document.querySelector('#df-07477114-f29d-441f-bcfb-d3915b2ee336 button.colab-df-convert');\n",
              "      buttonEl.style.display =\n",
              "        google.colab.kernel.accessAllowed ? 'block' : 'none';\n",
              "\n",
              "      async function convertToInteractive(key) {\n",
              "        const element = document.querySelector('#df-07477114-f29d-441f-bcfb-d3915b2ee336');\n",
              "        const dataTable =\n",
              "          await google.colab.kernel.invokeFunction('convertToInteractive',\n",
              "                                                    [key], {});\n",
              "        if (!dataTable) return;\n",
              "\n",
              "        const docLinkHtml = 'Like what you see? Visit the ' +\n",
              "          '<a target=\"_blank\" href=https://colab.research.google.com/notebooks/data_table.ipynb>data table notebook</a>'\n",
              "          + ' to learn more about interactive tables.';\n",
              "        element.innerHTML = '';\n",
              "        dataTable['output_type'] = 'display_data';\n",
              "        await google.colab.output.renderOutput(dataTable, element);\n",
              "        const docLink = document.createElement('div');\n",
              "        docLink.innerHTML = docLinkHtml;\n",
              "        element.appendChild(docLink);\n",
              "      }\n",
              "    </script>\n",
              "  </div>\n",
              "\n",
              "\n",
              "<div id=\"df-b7c11d32-9981-4393-886b-f7fec02ae3eb\">\n",
              "  <button class=\"colab-df-quickchart\" onclick=\"quickchart('df-b7c11d32-9981-4393-886b-f7fec02ae3eb')\"\n",
              "            title=\"Suggest charts\"\n",
              "            style=\"display:none;\">\n",
              "\n",
              "<svg xmlns=\"http://www.w3.org/2000/svg\" height=\"24px\"viewBox=\"0 0 24 24\"\n",
              "     width=\"24px\">\n",
              "    <g>\n",
              "        <path d=\"M19 3H5c-1.1 0-2 .9-2 2v14c0 1.1.9 2 2 2h14c1.1 0 2-.9 2-2V5c0-1.1-.9-2-2-2zM9 17H7v-7h2v7zm4 0h-2V7h2v10zm4 0h-2v-4h2v4z\"/>\n",
              "    </g>\n",
              "</svg>\n",
              "  </button>\n",
              "\n",
              "<style>\n",
              "  .colab-df-quickchart {\n",
              "      --bg-color: #E8F0FE;\n",
              "      --fill-color: #1967D2;\n",
              "      --hover-bg-color: #E2EBFA;\n",
              "      --hover-fill-color: #174EA6;\n",
              "      --disabled-fill-color: #AAA;\n",
              "      --disabled-bg-color: #DDD;\n",
              "  }\n",
              "\n",
              "  [theme=dark] .colab-df-quickchart {\n",
              "      --bg-color: #3B4455;\n",
              "      --fill-color: #D2E3FC;\n",
              "      --hover-bg-color: #434B5C;\n",
              "      --hover-fill-color: #FFFFFF;\n",
              "      --disabled-bg-color: #3B4455;\n",
              "      --disabled-fill-color: #666;\n",
              "  }\n",
              "\n",
              "  .colab-df-quickchart {\n",
              "    background-color: var(--bg-color);\n",
              "    border: none;\n",
              "    border-radius: 50%;\n",
              "    cursor: pointer;\n",
              "    display: none;\n",
              "    fill: var(--fill-color);\n",
              "    height: 32px;\n",
              "    padding: 0;\n",
              "    width: 32px;\n",
              "  }\n",
              "\n",
              "  .colab-df-quickchart:hover {\n",
              "    background-color: var(--hover-bg-color);\n",
              "    box-shadow: 0 1px 2px rgba(60, 64, 67, 0.3), 0 1px 3px 1px rgba(60, 64, 67, 0.15);\n",
              "    fill: var(--button-hover-fill-color);\n",
              "  }\n",
              "\n",
              "  .colab-df-quickchart-complete:disabled,\n",
              "  .colab-df-quickchart-complete:disabled:hover {\n",
              "    background-color: var(--disabled-bg-color);\n",
              "    fill: var(--disabled-fill-color);\n",
              "    box-shadow: none;\n",
              "  }\n",
              "\n",
              "  .colab-df-spinner {\n",
              "    border: 2px solid var(--fill-color);\n",
              "    border-color: transparent;\n",
              "    border-bottom-color: var(--fill-color);\n",
              "    animation:\n",
              "      spin 1s steps(1) infinite;\n",
              "  }\n",
              "\n",
              "  @keyframes spin {\n",
              "    0% {\n",
              "      border-color: transparent;\n",
              "      border-bottom-color: var(--fill-color);\n",
              "      border-left-color: var(--fill-color);\n",
              "    }\n",
              "    20% {\n",
              "      border-color: transparent;\n",
              "      border-left-color: var(--fill-color);\n",
              "      border-top-color: var(--fill-color);\n",
              "    }\n",
              "    30% {\n",
              "      border-color: transparent;\n",
              "      border-left-color: var(--fill-color);\n",
              "      border-top-color: var(--fill-color);\n",
              "      border-right-color: var(--fill-color);\n",
              "    }\n",
              "    40% {\n",
              "      border-color: transparent;\n",
              "      border-right-color: var(--fill-color);\n",
              "      border-top-color: var(--fill-color);\n",
              "    }\n",
              "    60% {\n",
              "      border-color: transparent;\n",
              "      border-right-color: var(--fill-color);\n",
              "    }\n",
              "    80% {\n",
              "      border-color: transparent;\n",
              "      border-right-color: var(--fill-color);\n",
              "      border-bottom-color: var(--fill-color);\n",
              "    }\n",
              "    90% {\n",
              "      border-color: transparent;\n",
              "      border-bottom-color: var(--fill-color);\n",
              "    }\n",
              "  }\n",
              "</style>\n",
              "\n",
              "  <script>\n",
              "    async function quickchart(key) {\n",
              "      const quickchartButtonEl =\n",
              "        document.querySelector('#' + key + ' button');\n",
              "      quickchartButtonEl.disabled = true;  // To prevent multiple clicks.\n",
              "      quickchartButtonEl.classList.add('colab-df-spinner');\n",
              "      try {\n",
              "        const charts = await google.colab.kernel.invokeFunction(\n",
              "            'suggestCharts', [key], {});\n",
              "      } catch (error) {\n",
              "        console.error('Error during call to suggestCharts:', error);\n",
              "      }\n",
              "      quickchartButtonEl.classList.remove('colab-df-spinner');\n",
              "      quickchartButtonEl.classList.add('colab-df-quickchart-complete');\n",
              "    }\n",
              "    (() => {\n",
              "      let quickchartButtonEl =\n",
              "        document.querySelector('#df-b7c11d32-9981-4393-886b-f7fec02ae3eb button');\n",
              "      quickchartButtonEl.style.display =\n",
              "        google.colab.kernel.accessAllowed ? 'block' : 'none';\n",
              "    })();\n",
              "  </script>\n",
              "</div>\n",
              "\n",
              "    </div>\n",
              "  </div>\n"
            ],
            "application/vnd.google.colaboratory.intrinsic+json": {
              "type": "dataframe",
              "summary": "{\n  \"name\": \"df\",\n  \"rows\": 8,\n  \"fields\": [\n    {\n      \"column\": \"is_canceled\",\n      \"properties\": {\n        \"dtype\": \"number\",\n        \"std\": 27853.860213020587,\n        \"min\": 0.0,\n        \"max\": 78783.0,\n        \"num_unique_values\": 5,\n        \"samples\": [\n          0.2633309216455327,\n          1.0,\n          0.4404431968900792\n        ],\n        \"semantic_type\": \"\",\n        \"description\": \"\"\n      }\n    },\n    {\n      \"column\": \"lead_time\",\n      \"properties\": {\n        \"dtype\": \"number\",\n        \"std\": 27800.962602623997,\n        \"min\": 0.0,\n        \"max\": 78783.0,\n        \"num_unique_values\": 8,\n        \"samples\": [\n          75.89015396722644,\n          46.0,\n          78783.0\n        ],\n        \"semantic_type\": \"\",\n        \"description\": \"\"\n      }\n    },\n    {\n      \"column\": \"arrival_date_year\",\n      \"properties\": {\n        \"dtype\": \"number\",\n        \"std\": 27252.088402643967,\n        \"min\": 0.6808858894442534,\n        \"max\": 78783.0,\n        \"num_unique_values\": 6,\n        \"samples\": [\n          78783.0,\n          2016.2212406229771,\n          2017.0\n        ],\n        \"semantic_type\": \"\",\n        \"description\": \"\"\n      }\n    },\n    {\n      \"column\": \"arrival_date_week_number\",\n      \"properties\": {\n        \"dtype\": \"number\",\n        \"std\": 27845.19390090105,\n        \"min\": 1.0,\n        \"max\": 78783.0,\n        \"num_unique_values\": 8,\n        \"samples\": [\n          26.7343589353033,\n          27.0,\n          78783.0\n        ],\n        \"semantic_type\": \"\",\n        \"description\": \"\"\n      }\n    },\n    {\n      \"column\": \"arrival_date_day_of_month\",\n      \"properties\": {\n        \"dtype\": \"number\",\n        \"std\": 27848.763554603924,\n        \"min\": 1.0,\n        \"max\": 78783.0,\n        \"num_unique_values\": 8,\n        \"samples\": [\n          15.801099221913358,\n          16.0,\n          78783.0\n        ],\n        \"semantic_type\": \"\",\n        \"description\": \"\"\n      }\n    },\n    {\n      \"column\": \"stays_in_weekend_nights\",\n      \"properties\": {\n        \"dtype\": \"number\",\n        \"std\": 27852.93366227956,\n        \"min\": 0.0,\n        \"max\": 78783.0,\n        \"num_unique_values\": 7,\n        \"samples\": [\n          78783.0,\n          1.0215274868943807,\n          2.0\n        ],\n        \"semantic_type\": \"\",\n        \"description\": \"\"\n      }\n    },\n    {\n      \"column\": \"stays_in_week_nights\",\n      \"properties\": {\n        \"dtype\": \"number\",\n        \"std\": 27851.3367678644,\n        \"min\": 0.0,\n        \"max\": 78783.0,\n        \"num_unique_values\": 8,\n        \"samples\": [\n          2.656283716030108,\n          2.0,\n          78783.0\n        ],\n        \"semantic_type\": \"\",\n        \"description\": \"\"\n      }\n    },\n    {\n      \"column\": \"adults\",\n      \"properties\": {\n        \"dtype\": \"number\",\n        \"std\": 27850.794467757154,\n        \"min\": 0.0,\n        \"max\": 78783.0,\n        \"num_unique_values\": 6,\n        \"samples\": [\n          78783.0,\n          1.8884657857659648,\n          55.0\n        ],\n        \"semantic_type\": \"\",\n        \"description\": \"\"\n      }\n    },\n    {\n      \"column\": \"children\",\n      \"properties\": {\n        \"dtype\": \"number\",\n        \"std\": 27853.46038304326,\n        \"min\": 0.0,\n        \"max\": 78783.0,\n        \"num_unique_values\": 5,\n        \"samples\": [\n          0.15048931876166177,\n          10.0,\n          0.4737237475436992\n        ],\n        \"semantic_type\": \"\",\n        \"description\": \"\"\n      }\n    },\n    {\n      \"column\": \"babies\",\n      \"properties\": {\n        \"dtype\": \"number\",\n        \"std\": 27853.48529545878,\n        \"min\": 0.0,\n        \"max\": 78783.0,\n        \"num_unique_values\": 5,\n        \"samples\": [\n          0.011918814972773315,\n          10.0,\n          0.11911601370356817\n        ],\n        \"semantic_type\": \"\",\n        \"description\": \"\"\n      }\n    },\n    {\n      \"column\": \"is_repeated_guest\",\n      \"properties\": {\n        \"dtype\": \"number\",\n        \"std\": 27853.933981138394,\n        \"min\": 0.0,\n        \"max\": 78783.0,\n        \"num_unique_values\": 5,\n        \"samples\": [\n          0.04219184341799627,\n          1.0,\n          0.20102787051274318\n        ],\n        \"semantic_type\": \"\",\n        \"description\": \"\"\n      }\n    },\n    {\n      \"column\": \"previous_cancellations\",\n      \"properties\": {\n        \"dtype\": \"number\",\n        \"std\": 27852.718223394793,\n        \"min\": 0.0,\n        \"max\": 78783.0,\n        \"num_unique_values\": 5,\n        \"samples\": [\n          0.025805059467143926,\n          25.0,\n          0.31522949031919145\n        ],\n        \"semantic_type\": \"\",\n        \"description\": \"\"\n      }\n    },\n    {\n      \"column\": \"previous_bookings_not_canceled\",\n      \"properties\": {\n        \"dtype\": \"number\",\n        \"std\": 27850.270832361803,\n        \"min\": 0.0,\n        \"max\": 78783.0,\n        \"num_unique_values\": 5,\n        \"samples\": [\n          0.1935315994567356,\n          72.0,\n          1.799980761517452\n        ],\n        \"semantic_type\": \"\",\n        \"description\": \"\"\n      }\n    },\n    {\n      \"column\": \"booking_changes\",\n      \"properties\": {\n        \"dtype\": \"number\",\n        \"std\": 27852.88509436632,\n        \"min\": 0.0,\n        \"max\": 78783.0,\n        \"num_unique_values\": 5,\n        \"samples\": [\n          0.2822309381465545,\n          21.0,\n          0.7467495767959402\n        ],\n        \"semantic_type\": \"\",\n        \"description\": \"\"\n      }\n    },\n    {\n      \"column\": \"agent\",\n      \"properties\": {\n        \"dtype\": \"number\",\n        \"std\": 27804.794744580257,\n        \"min\": 0.0,\n        \"max\": 78783.0,\n        \"num_unique_values\": 7,\n        \"samples\": [\n          78783.0,\n          82.37503014609752,\n          240.0\n        ],\n        \"semantic_type\": \"\",\n        \"description\": \"\"\n      }\n    },\n    {\n      \"column\": \"company\",\n      \"properties\": {\n        \"dtype\": \"number\",\n        \"std\": 27824.01009436193,\n        \"min\": 0.0,\n        \"max\": 78783.0,\n        \"num_unique_values\": 5,\n        \"samples\": [\n          10.500767932168108,\n          543.0,\n          52.670196255107825\n        ],\n        \"semantic_type\": \"\",\n        \"description\": \"\"\n      }\n    },\n    {\n      \"column\": \"days_in_waiting_list\",\n      \"properties\": {\n        \"dtype\": \"number\",\n        \"std\": 27837.154108373317,\n        \"min\": 0.0,\n        \"max\": 78783.0,\n        \"num_unique_values\": 5,\n        \"samples\": [\n          0.4947387126664382,\n          330.0,\n          7.678469494153342\n        ],\n        \"semantic_type\": \"\",\n        \"description\": \"\"\n      }\n    },\n    {\n      \"column\": \"adr\",\n      \"properties\": {\n        \"dtype\": \"number\",\n        \"std\": 27620.58933131575,\n        \"min\": -6.38,\n        \"max\": 78783.0,\n        \"num_unique_values\": 8,\n        \"samples\": [\n          108.00181384308796,\n          99.45,\n          78783.0\n        ],\n        \"semantic_type\": \"\",\n        \"description\": \"\"\n      }\n    },\n    {\n      \"column\": \"required_car_parking_spaces\",\n      \"properties\": {\n        \"dtype\": \"number\",\n        \"std\": 27853.573517435998,\n        \"min\": 0.0,\n        \"max\": 78783.0,\n        \"num_unique_values\": 5,\n        \"samples\": [\n          0.09102217483467245,\n          8.0,\n          0.2917175588137225\n        ],\n        \"semantic_type\": \"\",\n        \"description\": \"\"\n      }\n    },\n    {\n      \"column\": \"total_of_special_requests\",\n      \"properties\": {\n        \"dtype\": \"number\",\n        \"std\": 27853.56487239532,\n        \"min\": 0.0,\n        \"max\": 78783.0,\n        \"num_unique_values\": 6,\n        \"samples\": [\n          78783.0,\n          0.7167409212647399,\n          5.0\n        ],\n        \"semantic_type\": \"\",\n        \"description\": \"\"\n      }\n    }\n  ]\n}"
            }
          },
          "metadata": {},
          "execution_count": 25
        }
      ]
    },
    {
      "cell_type": "markdown",
      "source": [
        "## Histograms\n",
        "\n",
        "Wow here all the 5 histograms are right-skewed and adr column doesnt show other bins. In all cases, we have to consider median for central value. For booking_changes, and adr column I suggest using log-transformation if these columns would be used in finding correlations.\n",
        "\n",
        "This transformation would ensure linear relationship with other variables."
      ],
      "metadata": {
        "id": "QZTDr3jXhVOc"
      },
      "id": "QZTDr3jXhVOc"
    },
    {
      "cell_type": "code",
      "source": [
        "columns = ['lead_time','stays_in_weekend_nights','stays_in_week_nights','booking_changes','adr']\n",
        "plt.figure(figsize=(20,15))\n",
        "n=1\n",
        "for column in columns:\n",
        "  plt.subplot(5,5,n)\n",
        "  n = n+1\n",
        "  plt.hist(df[column])\n",
        "  plt.xlabel(column)\n",
        "plt.show()"
      ],
      "metadata": {
        "colab": {
          "base_uri": "https://localhost:8080/",
          "height": 253
        },
        "id": "tDJ2FBavhRWv",
        "outputId": "f7a54ed0-22c8-4862-a8b4-22fe5907cf34"
      },
      "id": "tDJ2FBavhRWv",
      "execution_count": null,
      "outputs": [
        {
          "output_type": "display_data",
          "data": {
            "text/plain": [
              "<Figure size 2000x1500 with 5 Axes>"
            ],
            "image/png": "[encoded data removed]"
          },
          "metadata": {}
        }
      ]
    },
    {
      "cell_type": "markdown",
      "source": [
        "## Checking outliers\n",
        "\n",
        "Lets draw a box plot using seaborn to check for outliers for the selected columns. Any datapoints outside the box are considered outliers. I've picked these columns as I observed bigger range of values for these.\n",
        "\n",
        "Booking_changes, adr columns do not form proper box plots. Even frrom the histogram, it appears the data is highly skewed to the right. For booking_changes, there appears to be many outliers. For adr, there's only one outlier. These outliers can impact any predictive models if developed.\n",
        "\n",
        "For the other three columns, the box plot is clearly formed, and outliers are present beyond the IQR. Those observations have to be removed as they could impact the predictive models\n",
        "\n",
        "Since my intention here is EDA, I am just identifying potential cases that could impact models."
      ],
      "metadata": {
        "id": "MgVc8rUuYCTN"
      },
      "id": "MgVc8rUuYCTN"
    },
    {
      "cell_type": "code",
      "source": [
        "\n",
        "columns = ['lead_time','stays_in_weekend_nights','stays_in_week_nights','booking_changes','adr']\n",
        "plt.figure(figsize=(20,15))\n",
        "n=1\n",
        "for column in columns:\n",
        "  plt.subplot(5,5,n)\n",
        "  n = n+1\n",
        "  sns.boxplot(df[column])\n",
        "  plt.xlabel(column)\n",
        "plt.show()"
      ],
      "metadata": {
        "colab": {
          "base_uri": "https://localhost:8080/",
          "height": 237
        },
        "id": "5UTFO2ptYBnE",
        "outputId": "0cdedda1-cd5b-4ec8-c5fa-e46fbfdc7048"
      },
      "id": "5UTFO2ptYBnE",
      "execution_count": null,
      "outputs": [
        {
          "output_type": "display_data",
          "data": {
            "text/plain": [
              "<Figure size 2000x1500 with 5 Axes>"
            ],
            "image/png": "[encoded data removed]"
          },
          "metadata": {}
        }
      ]
    },
    {
      "cell_type": "markdown",
      "id": "73ec92d6-0f5a-4ac2-964e-3cac0afead73",
      "metadata": {
        "id": "73ec92d6-0f5a-4ac2-964e-3cac0afead73"
      },
      "source": [
        "# Answering reserach questions\n",
        "\n",
        "- Which countries do most of the hotel guests come from?\n",
        "- So what hotels people from portugal go into? lets see the popular hotel list\n",
        "- what is their average duration? lets check for both portugal and all other cases as well.\n",
        "- So whats the best time to book a hotel? Whats the adr?\n",
        "- Which Market segment had the highest bookings overall?\n",
        "- Which segment has highest booking changes? And how many days in advance did they book for?"
      ]
    },
    {
      "cell_type": "markdown",
      "source": [
        "## Which countries do most of the hotel guests come from?"
      ],
      "metadata": {
        "id": "IIgfsNyZW7m5"
      },
      "id": "IIgfsNyZW7m5"
    },
    {
      "cell_type": "code",
      "execution_count": null,
      "id": "677f3f74-61cc-4880-a4d4-721415168208",
      "metadata": {
        "colab": {
          "base_uri": "https://localhost:8080/",
          "height": 472
        },
        "id": "677f3f74-61cc-4880-a4d4-721415168208",
        "outputId": "4c6faa71-3805-4a3b-c827-d0bb76c4f6cd"
      },
      "outputs": [
        {
          "output_type": "display_data",
          "data": {
            "text/plain": [
              "<Figure size 640x480 with 1 Axes>"
            ],
            "image/png": "[encoded data removed]"
          },
          "metadata": {}
        }
      ],
      "source": [
        "# creating a new column for total number of guests\n",
        "df['total_guests'] = df['adults'] + df['children'] + df['babies']\n",
        "\n",
        "most_hotel_guest = df.groupby('country')['total_guests'].sum().sort_values(ascending=False).head()\n",
        "\n",
        "plt.bar(most_hotel_guest.index, most_hotel_guest.values)\n",
        "plt.xlabel('Countries')\n",
        "plt.ylabel('Frequency of guests')\n",
        "plt.title('barchart')\n",
        "plt.show()"
      ]
    },
    {
      "cell_type": "markdown",
      "source": [
        "The highest number of guests are from Portugal, followed by Bulgaria and France. So what hotels people from portugal go into? lets see the popular hotel list\n"
      ],
      "metadata": {
        "id": "uDlLi47TpfnJ"
      },
      "id": "uDlLi47TpfnJ"
    },
    {
      "cell_type": "markdown",
      "source": [
        "## So what hotels people from portugal go into? lets see the popular hotel list"
      ],
      "metadata": {
        "id": "BUDvzQMoXDFL"
      },
      "id": "BUDvzQMoXDFL"
    },
    {
      "cell_type": "code",
      "source": [
        "df_portugal = df[df['country'] == 'PRT']\n",
        "df_portugal.groupby(['arrival_date_year','hotel']).size()"
      ],
      "metadata": {
        "colab": {
          "base_uri": "https://localhost:8080/"
        },
        "id": "m_P4VfW5pqW3",
        "outputId": "e308c731-29ed-456d-ce7e-004c8a90ce3b"
      },
      "id": "m_P4VfW5pqW3",
      "execution_count": null,
      "outputs": [
        {
          "output_type": "execute_result",
          "data": {
            "text/plain": [
              "arrival_date_year  hotel       \n",
              "2015               City Hotel      2471\n",
              "                   Resort Hotel    3197\n",
              "2016               City Hotel      5520\n",
              "                   Resort Hotel    6149\n",
              "2017               City Hotel      3085\n",
              "                   Resort Hotel    3841\n",
              "dtype: int64"
            ]
          },
          "metadata": {},
          "execution_count": 29
        }
      ]
    },
    {
      "cell_type": "markdown",
      "source": [
        "Looks like City Hotel is the most popular destination in all years. So what is their average duration?"
      ],
      "metadata": {
        "id": "2jfL3OECrqJ-"
      },
      "id": "2jfL3OECrqJ-"
    },
    {
      "cell_type": "markdown",
      "source": [
        "## So what is their average duration of stay?"
      ],
      "metadata": {
        "id": "ia5iK65qXIa3"
      },
      "id": "ia5iK65qXIa3"
    },
    {
      "cell_type": "code",
      "source": [
        "df['total_stay'] = df['stays_in_weekend_nights'] + df['stays_in_week_nights']\n",
        "\n",
        "df.groupby(['arrival_date_year','country'])['total_stay'].mean()"
      ],
      "metadata": {
        "colab": {
          "base_uri": "https://localhost:8080/"
        },
        "id": "iz2WJ8fYsFth",
        "outputId": "3e470470-922a-4394-8d6f-8362f41b07e6"
      },
      "id": "iz2WJ8fYsFth",
      "execution_count": null,
      "outputs": [
        {
          "output_type": "execute_result",
          "data": {
            "text/plain": [
              "arrival_date_year  country\n",
              "2015               AGO        4.564103\n",
              "                   ALB        3.000000\n",
              "                   ARG        3.857143\n",
              "                   ARM        7.000000\n",
              "                   AUS        3.360000\n",
              "                                ...   \n",
              "2017               UZB        3.000000\n",
              "                   VEN        3.500000\n",
              "                   VNM        2.666667\n",
              "                   ZAF        2.648649\n",
              "                   ZWE        2.666667\n",
              "Name: total_stay, Length: 392, dtype: float64"
            ]
          },
          "metadata": {},
          "execution_count": 30
        }
      ]
    },
    {
      "cell_type": "markdown",
      "source": [
        "## Whats the best time to book a hotel? Whats the Average daily rate(ADR)?"
      ],
      "metadata": {
        "id": "EYU7TwE6tZ0Q"
      },
      "id": "EYU7TwE6tZ0Q"
    },
    {
      "cell_type": "code",
      "execution_count": null,
      "id": "3f5785b4-f17e-41c4-9b2a-95c9314e8f71",
      "metadata": {
        "colab": {
          "base_uri": "https://localhost:8080/",
          "height": 522
        },
        "id": "3f5785b4-f17e-41c4-9b2a-95c9314e8f71",
        "outputId": "69d1b1ed-9697-4d85-87db-72f1c836e96c"
      },
      "outputs": [
        {
          "output_type": "display_data",
          "data": {
            "text/plain": [
              "<Figure size 640x480 with 1 Axes>"
            ],
            "image/png": "[encoded data removed]"
          },
          "metadata": {}
        }
      ],
      "source": [
        "# Define the correct order of the months\n",
        "months_order = ['January', 'February', 'March', 'April', 'May', 'June',\n",
        "                'July', 'August', 'September', 'October', 'November', 'December']\n",
        "\n",
        "avg_adr_per_month = df.groupby('arrival_date_month')['adr'].mean()\n",
        "\n",
        "# Reindex the series with the defined months order\n",
        "avg_adr_per_month = avg_adr_per_month.reindex(months_order)\n",
        "\n",
        "plt.plot(avg_adr_per_month.index, avg_adr_per_month.values)\n",
        "plt.xlabel('Months')\n",
        "plt.ylabel('Average ADR')\n",
        "plt.title('line chart to show avergae ADR through out the year')\n",
        "plt.xticks(rotation=45)\n",
        "plt.show()"
      ]
    },
    {
      "cell_type": "markdown",
      "source": [
        ":The best time to book a hotel room is in Jan, Feb, November, December as the average price is very low."
      ],
      "metadata": {
        "id": "hcBa7TpupPa2"
      },
      "id": "hcBa7TpupPa2"
    },
    {
      "cell_type": "markdown",
      "source": [
        "## **Did more people stay during weekend or weekdays? and in which hotel? and what was the family size**"
      ],
      "metadata": {
        "id": "4_pvVHz-vEzh"
      },
      "id": "4_pvVHz-vEzh"
    },
    {
      "cell_type": "code",
      "source": [
        "# people's preference from entire dataset\n",
        "print(\"===============People's hotels choice===============\\n\")\n",
        "print(df[['stays_in_week_nights','stays_in_weekend_nights']].mean(),'\\n') #Looks like more people are willing to stay in week nights\n",
        "\n",
        "# lets see the breakdown per month\n",
        "print('===============Breakdown per month==============\\n')\n",
        "print(df.groupby('arrival_date_month')[['stays_in_week_nights','stays_in_weekend_nights']].mean(),'\\n') # the same sentiment is carried\n",
        "\n",
        "# lets see this breakdown by hotel\n",
        "print('===============Checking whether people prefer to stay in the weekdays or weekends===============\\n')\n",
        "print(df.groupby('hotel')[['stays_in_week_nights','stays_in_weekend_nights']].mean(),'\\n') # resort hotel seems popular for week night stays\n",
        "\n",
        "# what about with family size\n",
        "print('===============The family size is=============== \\n')\n",
        "print(df.groupby('total_guests')[['stays_in_week_nights','stays_in_weekend_nights']].mean(),'\\n')"
      ],
      "metadata": {
        "colab": {
          "base_uri": "https://localhost:8080/"
        },
        "id": "NPbGqpLou9Nk",
        "outputId": "9b7e94cf-21b6-48cf-c569-93c6bb7fcf09"
      },
      "id": "NPbGqpLou9Nk",
      "execution_count": null,
      "outputs": [
        {
          "output_type": "stream",
          "name": "stdout",
          "text": [
            "===============People's hotels choice===============\n",
            "\n",
            "stays_in_week_nights       2.656284\n",
            "stays_in_weekend_nights    1.021527\n",
            "dtype: float64 \n",
            "\n",
            "===============Breakdown per month==============\n",
            "\n",
            "                    stays_in_week_nights  stays_in_weekend_nights\n",
            "arrival_date_month                                               \n",
            "April                           2.443657                 1.006237\n",
            "August                          3.051130                 1.160858\n",
            "December                        2.436026                 0.898035\n",
            "February                        2.319313                 0.935744\n",
            "January                         2.393066                 0.865074\n",
            "July                            3.029155                 1.218011\n",
            "June                            2.850958                 1.064159\n",
            "March                           2.527206                 0.865735\n",
            "May                             2.526682                 0.987161\n",
            "November                        2.515934                 0.871634\n",
            "October                         2.386646                 0.979650\n",
            "September                       2.765820                 1.103189 \n",
            "\n",
            "===============Checking whether people prefer to stay in the weekdays or weekends===============\n",
            "\n",
            "              stays_in_week_nights  stays_in_weekend_nights\n",
            "hotel                                                      \n",
            "City Hotel                2.297127                 0.884928\n",
            "Resort Hotel              3.203916                 1.229810 \n",
            "\n",
            "===============The family size is=============== \n",
            "\n",
            "              stays_in_week_nights  stays_in_weekend_nights\n",
            "total_guests                                               \n",
            "0.0                       3.522876                 1.398693\n",
            "1.0                       1.996464                 0.718915\n",
            "2.0                       2.794762                 1.086871\n",
            "3.0                       2.768324                 1.068888\n",
            "4.0                       2.878573                 1.109887\n",
            "5.0                       2.481481                 0.940741\n",
            "6.0                       5.000000                 2.000000\n",
            "10.0                      3.000000                 2.000000\n",
            "12.0                      6.000000                 2.000000\n",
            "20.0                      5.000000                 2.000000\n",
            "26.0                      5.000000                 2.000000\n",
            "27.0                      3.000000                 1.000000\n",
            "40.0                      3.000000                 0.000000\n",
            "50.0                      2.000000                 1.000000\n",
            "55.0                      0.000000                 2.000000 \n",
            "\n"
          ]
        }
      ]
    },
    {
      "cell_type": "markdown",
      "source": [
        "## Which Market segment had the highest bookings overall?\n",
        "\n",
        "To display proportions, donut chart or piechart are good options. I choose to draw a piechart to see how the market segments are distributed.\n",
        "\n",
        "Here, the largest bookings are done by Online TA(travel agent), followed by Offline TA/TO. This tells us that people book more through agents, while a small percentage of people come directly to the hotel website and a fewer from corporate sector."
      ],
      "metadata": {
        "id": "76uACCP_SJvx"
      },
      "id": "76uACCP_SJvx"
    },
    {
      "cell_type": "code",
      "source": [
        "market_segment_size = df.groupby('market_segment').size()\n",
        "\n",
        "# creating piechart\n",
        "plt.pie(market_segment_size.values, labels=market_segment_size.index)\n",
        "plt.show()"
      ],
      "metadata": {
        "colab": {
          "base_uri": "https://localhost:8080/",
          "height": 406
        },
        "id": "XxunV9wMSJ37",
        "outputId": "3cf94600-3118-4aa7-cd93-714e5ae0d2a8"
      },
      "id": "XxunV9wMSJ37",
      "execution_count": null,
      "outputs": [
        {
          "output_type": "display_data",
          "data": {
            "text/plain": [
              "<Figure size 640x480 with 1 Axes>"
            ],
            "image/png": "[encoded data removed]"
          },
          "metadata": {}
        }
      ]
    },
    {
      "cell_type": "markdown",
      "source": [
        "##  Which segment has highest booking changes? And on an average, how many days in advance did they book for?"
      ],
      "metadata": {
        "id": "-mB_j7XfSJ_i"
      },
      "id": "-mB_j7XfSJ_i"
    },
    {
      "cell_type": "code",
      "source": [
        "segment_booking_change = df.groupby('market_segment')['booking_changes'].sum().sort_values(ascending=True)\n",
        "\n",
        "plt.bar(segment_booking_change.index, segment_booking_change.values)\n",
        "plt.xlabel('Market segments')\n",
        "plt.ylabel('Number of booking changes recorded')\n",
        "plt.xticks(rotation=45)\n",
        "plt.show()"
      ],
      "metadata": {
        "colab": {
          "base_uri": "https://localhost:8080/",
          "height": 524
        },
        "id": "_1sq7EIiSKIH",
        "outputId": "da2486ca-c507-4fd1-c673-c6c7745a6c6c"
      },
      "id": "_1sq7EIiSKIH",
      "execution_count": null,
      "outputs": [
        {
          "output_type": "display_data",
          "data": {
            "text/plain": [
              "<Figure size 640x480 with 1 Axes>"
            ],
            "image/png": "[encoded data removed]"
          },
          "metadata": {}
        }
      ]
    },
    {
      "cell_type": "markdown",
      "source": [
        "the column we need here is lead_time which tells the difference between the date of booking and date of arrival. Using this, we can group the market segments, and calculate the average number of days a segment books in advance.\n",
        "\n",
        "From the results, it looks like aviation industry books last minute when compares to corporate, direct,offline and online travel agents. I think this is because, the aircraft crew can have unpredictable schedules and book a place to stay in the last minute.\n",
        "\n",
        "The complementary could be for people who missed their flights, or the hotels giving complementary bookings. All other cases could be categorised as guests, who do booking in advance."
      ],
      "metadata": {
        "id": "hEp8CxgLVby9"
      },
      "id": "hEp8CxgLVby9"
    },
    {
      "cell_type": "code",
      "source": [
        "df.groupby('market_segment')['lead_time'].mean().sort_values(ascending=True)"
      ],
      "metadata": {
        "colab": {
          "base_uri": "https://localhost:8080/"
        },
        "id": "c9hQjcnkVcBE",
        "outputId": "533352f8-c5ba-489b-956f-fb5c8a5eb44b"
      },
      "id": "c9hQjcnkVcBE",
      "execution_count": null,
      "outputs": [
        {
          "output_type": "execute_result",
          "data": {
            "text/plain": [
              "market_segment\n",
              "Undefined          1.500000\n",
              "Aviation           4.133028\n",
              "Complementary     13.966967\n",
              "Corporate         15.695032\n",
              "Direct            48.387652\n",
              "Online TA         78.016142\n",
              "Offline TA/TO    101.413238\n",
              "Groups           131.496929\n",
              "Name: lead_time, dtype: float64"
            ]
          },
          "metadata": {},
          "execution_count": 48
        }
      ]
    },
    {
      "cell_type": "markdown",
      "source": [
        "# Conclusion"
      ],
      "metadata": {
        "id": "Ch6TYrz9zkUG"
      },
      "id": "Ch6TYrz9zkUG"
    },
    {
      "cell_type": "markdown",
      "source": [
        "The whole dataset can be divided into two hotel categories - Resort and City Hotel reported for 2015 through 2017. The dataset had a few NA's in 4 columns which are handled by - replacing with median, removing rows, replacing with 0's etc. The duplicates found were also removed, an important step for EDA.\n",
        "\n",
        "I performed statistical analysis of five columns using histograms and boxplots respectively. All the histograms are right-skewed and each column have a few outliers. Specially, the columns - 'booking_changes' and 'adr' stand out as they dont have fully formed boxplots. If we are doing predictive modeling it would be necessary to transform this data using log transformation to make the data more evemly spread.\n",
        "\n",
        "After this initial EDA, a few key insights are noted. Many guests are primarily frrom Portugal, followed by Bulgaria and France. I decided to dig a little deeper into the Portugal bucket, and found City hotel is their popular choice each year and the guests stay on an average of 4 days. And, the best time to book a hotel August and it was the elast during the beginning and ending of any year.\n",
        "\n",
        "Generally, people stayed on average of 2.5 days during weekdays than weekends in a year. The average family size is proportial to the duration upto 12 guests, but then declines as the group size increases.\n",
        "\n",
        "Also, a market segment share analysis shows that many hotel bookings are made by online and offline agents, and this segment also observed the highest number of booking change requests. And, looks like the aviation industry books last minute, and the group bookings have a huge gap between booking date and their arrival."
      ],
      "metadata": {
        "id": "O9ickMpevEKD"
      },
      "id": "O9ickMpevEKD"
    }
  ],
  "metadata": {
    "kernelspec": {
      "display_name": "Python 3 (ipykernel)",
      "language": "python",
      "name": "python3"
    },
    "language_info": {
      "codemirror_mode": {
        "name": "ipython",
        "version": 3
      },
      "file_extension": ".py",
      "mimetype": "text/x-python",
      "name": "python",
      "nbconvert_exporter": "python",
      "pygments_lexer": "ipython3",
      "version": "3.10.10"
    },
    "colab": {
      "provenance": []
    }
  },
  "nbformat": 4,
  "nbformat_minor": 5
}